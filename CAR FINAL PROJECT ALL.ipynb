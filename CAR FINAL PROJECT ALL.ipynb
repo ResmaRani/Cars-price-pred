{
 "cells": [
  {
   "cell_type": "markdown",
   "metadata": {},
   "source": [
    "Final Project Dataset: The data is scrapped from cars24.com in month of march-2021 .Since the data is scrapped from live website ,the data is uncleaned. Detailed explanation of the site: https://www.cars24.com/faq/ Problem statement: Given the features of the car ,predict the selling price of that used car.\n",
    "\n",
    "Features:\n",
    "\n",
    "Independent variables\n",
    "\n",
    "Name:Car Model name along with purchase year of the car. Rating:Rating given while car inspection by cars 24 team. City: City of that car placed for advertainment ,city is given interms of code format. Kilometres:How many kilometres that particular car has driven for before placing that advertisement . Year of purchase :Original Date of purchase of that car. Owner:How many previous owners it had before selling on cars24 site. Fuel type:Type of fuel which car runs on.(Petrol, diesel …) Transmission:whether car is automated or manual transmission. RT0: Car registered under which RTO . Insurance:expiry date of the insurance if any. Insurance_Type: Different types insurance availed by owner. Target: Price:Price of the used car. Task: Required r2score is 0.85 on test data. Split data into 80-20 percent. Apply the different regression techniques like\n",
    "\n",
    "1.Linear regression 2.Lasso 3.Ridge 4.Polynomial 5.Decision tree 6.Random forests 7.Xgboost"
   ]
  },
  {
   "cell_type": "markdown",
   "metadata": {},
   "source": [
    "Let’s load the data using Pandas. Once again you should write a small function to load the data:"
   ]
  },
  {
   "cell_type": "code",
   "execution_count": 1,
   "metadata": {},
   "outputs": [],
   "source": [
    "import pandas as pd\n",
    "import numpy as np\n",
    "import seaborn as sns\n",
    "import os"
   ]
  },
  {
   "cell_type": "code",
   "execution_count": 2,
   "metadata": {},
   "outputs": [],
   "source": [
    "Cars=pd.read_excel('cars_datafinal.xlsx')"
   ]
  },
  {
   "cell_type": "markdown",
   "metadata": {},
   "source": [
    "Let’s take a look at the top five rows using the DataFrame’s head() method"
   ]
  },
  {
   "cell_type": "code",
   "execution_count": 3,
   "metadata": {},
   "outputs": [
    {
     "data": {
      "text/html": [
       "<div>\n",
       "<style scoped>\n",
       "    .dataframe tbody tr th:only-of-type {\n",
       "        vertical-align: middle;\n",
       "    }\n",
       "\n",
       "    .dataframe tbody tr th {\n",
       "        vertical-align: top;\n",
       "    }\n",
       "\n",
       "    .dataframe thead th {\n",
       "        text-align: right;\n",
       "    }\n",
       "</style>\n",
       "<table border=\"1\" class=\"dataframe\">\n",
       "  <thead>\n",
       "    <tr style=\"text-align: right;\">\n",
       "      <th></th>\n",
       "      <th>Name</th>\n",
       "      <th>Price</th>\n",
       "      <th>Rating</th>\n",
       "      <th>city</th>\n",
       "      <th>Kilometers</th>\n",
       "      <th>Year_of_Purchase</th>\n",
       "      <th>Owner</th>\n",
       "      <th>Fuel_Type</th>\n",
       "      <th>Transmission</th>\n",
       "      <th>RTO</th>\n",
       "      <th>Insurance</th>\n",
       "      <th>Insurance_Type</th>\n",
       "    </tr>\n",
       "  </thead>\n",
       "  <tbody>\n",
       "    <tr>\n",
       "      <th>0</th>\n",
       "      <td>2010 Maruti Alto LXI</td>\n",
       "      <td>₹ 174,699</td>\n",
       "      <td>4out of 5</td>\n",
       "      <td>3686</td>\n",
       "      <td>Kilometers34,854 km</td>\n",
       "      <td>Year of PurchaseMay 2010</td>\n",
       "      <td>OwnerFirst Owner</td>\n",
       "      <td>FuelPetrol</td>\n",
       "      <td>TransmissionMANUAL</td>\n",
       "      <td>RTOAP09</td>\n",
       "      <td>NaN</td>\n",
       "      <td>Insurance TypeInsurance Expired</td>\n",
       "    </tr>\n",
       "    <tr>\n",
       "      <th>1</th>\n",
       "      <td>2013 Maruti Wagon R 1.0 VXI</td>\n",
       "      <td>₹ 333,999</td>\n",
       "      <td>4.2out of 5</td>\n",
       "      <td>3686</td>\n",
       "      <td>Kilometers39,541 km</td>\n",
       "      <td>Year of PurchaseJuly 2013</td>\n",
       "      <td>OwnerSecond Owner</td>\n",
       "      <td>FuelPetrol</td>\n",
       "      <td>TransmissionMANUAL</td>\n",
       "      <td>RTOAP28</td>\n",
       "      <td>Insurance6/8/2021</td>\n",
       "      <td>Insurance TypeComp</td>\n",
       "    </tr>\n",
       "    <tr>\n",
       "      <th>2</th>\n",
       "      <td>2014 Maruti Wagon R 1.0 VXI</td>\n",
       "      <td>₹ 353,199</td>\n",
       "      <td>4.3out of 5</td>\n",
       "      <td>3686</td>\n",
       "      <td>Kilometers23,233 km</td>\n",
       "      <td>Year of PurchaseMarch 2014</td>\n",
       "      <td>OwnerSecond Owner</td>\n",
       "      <td>FuelPetrol</td>\n",
       "      <td>TransmissionMANUAL</td>\n",
       "      <td>RTOAP28</td>\n",
       "      <td>Insurance28/4/2021</td>\n",
       "      <td>Insurance TypeComp</td>\n",
       "    </tr>\n",
       "    <tr>\n",
       "      <th>3</th>\n",
       "      <td>2013 Hyundai Eon D LITE PLUS</td>\n",
       "      <td>₹ 237,899</td>\n",
       "      <td>4.4out of 5</td>\n",
       "      <td>3686</td>\n",
       "      <td>Kilometers27,748 km</td>\n",
       "      <td>Year of PurchaseNovember 2013</td>\n",
       "      <td>OwnerFirst Owner</td>\n",
       "      <td>FuelPetrol</td>\n",
       "      <td>TransmissionMANUAL</td>\n",
       "      <td>RTOAP13</td>\n",
       "      <td>Insurance1/1/2022</td>\n",
       "      <td>Insurance TypeComp</td>\n",
       "    </tr>\n",
       "    <tr>\n",
       "      <th>4</th>\n",
       "      <td>2017 Hyundai Eon ERA PLUS</td>\n",
       "      <td>₹ 300,699</td>\n",
       "      <td>4.4out of 5</td>\n",
       "      <td>3686</td>\n",
       "      <td>Kilometers12,238 km</td>\n",
       "      <td>Year of PurchaseAugust 2017</td>\n",
       "      <td>OwnerSecond Owner</td>\n",
       "      <td>FuelPetrol</td>\n",
       "      <td>TransmissionMANUAL</td>\n",
       "      <td>RTOTS10</td>\n",
       "      <td>NaN</td>\n",
       "      <td>Insurance TypeExpired</td>\n",
       "    </tr>\n",
       "  </tbody>\n",
       "</table>\n",
       "</div>"
      ],
      "text/plain": [
       "                           Name      Price       Rating  city  \\\n",
       "0          2010 Maruti Alto LXI  ₹ 174,699    4out of 5  3686   \n",
       "1   2013 Maruti Wagon R 1.0 VXI  ₹ 333,999  4.2out of 5  3686   \n",
       "2   2014 Maruti Wagon R 1.0 VXI  ₹ 353,199  4.3out of 5  3686   \n",
       "3  2013 Hyundai Eon D LITE PLUS  ₹ 237,899  4.4out of 5  3686   \n",
       "4     2017 Hyundai Eon ERA PLUS  ₹ 300,699  4.4out of 5  3686   \n",
       "\n",
       "            Kilometers               Year_of_Purchase              Owner  \\\n",
       "0  Kilometers34,854 km       Year of PurchaseMay 2010   OwnerFirst Owner   \n",
       "1  Kilometers39,541 km      Year of PurchaseJuly 2013  OwnerSecond Owner   \n",
       "2  Kilometers23,233 km     Year of PurchaseMarch 2014  OwnerSecond Owner   \n",
       "3  Kilometers27,748 km  Year of PurchaseNovember 2013   OwnerFirst Owner   \n",
       "4  Kilometers12,238 km    Year of PurchaseAugust 2017  OwnerSecond Owner   \n",
       "\n",
       "    Fuel_Type        Transmission      RTO           Insurance  \\\n",
       "0  FuelPetrol  TransmissionMANUAL  RTOAP09                 NaN   \n",
       "1  FuelPetrol  TransmissionMANUAL  RTOAP28   Insurance6/8/2021   \n",
       "2  FuelPetrol  TransmissionMANUAL  RTOAP28  Insurance28/4/2021   \n",
       "3  FuelPetrol  TransmissionMANUAL  RTOAP13   Insurance1/1/2022   \n",
       "4  FuelPetrol  TransmissionMANUAL  RTOTS10                 NaN   \n",
       "\n",
       "                    Insurance_Type  \n",
       "0  Insurance TypeInsurance Expired  \n",
       "1               Insurance TypeComp  \n",
       "2               Insurance TypeComp  \n",
       "3               Insurance TypeComp  \n",
       "4            Insurance TypeExpired  "
      ]
     },
     "execution_count": 3,
     "metadata": {},
     "output_type": "execute_result"
    }
   ],
   "source": [
    "Cars.head()"
   ]
  },
  {
   "cell_type": "markdown",
   "metadata": {},
   "source": [
    "The info() method is useful to get a quick description of the data, in particular the total number of rows, and each attribute’s type and number of non-null values "
   ]
  },
  {
   "cell_type": "code",
   "execution_count": 4,
   "metadata": {},
   "outputs": [
    {
     "name": "stdout",
     "output_type": "stream",
     "text": [
      "<class 'pandas.core.frame.DataFrame'>\n",
      "RangeIndex: 32158 entries, 0 to 32157\n",
      "Data columns (total 12 columns):\n",
      " #   Column            Non-Null Count  Dtype \n",
      "---  ------            --------------  ----- \n",
      " 0   Name              32158 non-null  object\n",
      " 1   Price             32158 non-null  object\n",
      " 2   Rating            32158 non-null  object\n",
      " 3   city              32158 non-null  int64 \n",
      " 4   Kilometers        32158 non-null  object\n",
      " 5   Year_of_Purchase  32158 non-null  object\n",
      " 6   Owner             32158 non-null  object\n",
      " 7   Fuel_Type         32158 non-null  object\n",
      " 8   Transmission      29342 non-null  object\n",
      " 9   RTO               32158 non-null  object\n",
      " 10  Insurance         22965 non-null  object\n",
      " 11  Insurance_Type    32158 non-null  object\n",
      "dtypes: int64(1), object(11)\n",
      "memory usage: 2.9+ MB\n"
     ]
    }
   ],
   "source": [
    "#quick summary\n",
    "Cars.info()"
   ]
  },
  {
   "cell_type": "markdown",
   "metadata": {},
   "source": [
    "All attributes are obj, except the city field. Its type is int64."
   ]
  },
  {
   "cell_type": "code",
   "execution_count": 5,
   "metadata": {},
   "outputs": [
    {
     "data": {
      "text/plain": [
       "(32158, 12)"
      ]
     },
     "execution_count": 5,
     "metadata": {},
     "output_type": "execute_result"
    }
   ],
   "source": [
    "#Shape of the dataset\n",
    "Cars.shape"
   ]
  },
  {
   "cell_type": "code",
   "execution_count": 6,
   "metadata": {},
   "outputs": [
    {
     "data": {
      "text/plain": [
       "Index(['Name', 'Price', 'Rating', 'city', 'Kilometers', 'Year_of_Purchase',\n",
       "       'Owner', 'Fuel_Type', 'Transmission', 'RTO', 'Insurance',\n",
       "       'Insurance_Type'],\n",
       "      dtype='object')"
      ]
     },
     "execution_count": 6,
     "metadata": {},
     "output_type": "execute_result"
    }
   ],
   "source": [
    "# the columns Names\n",
    "Cars.keys()"
   ]
  },
  {
   "cell_type": "code",
   "execution_count": 7,
   "metadata": {},
   "outputs": [
    {
     "data": {
      "text/plain": [
       "Name                   0\n",
       "Price                  0\n",
       "Rating                 0\n",
       "city                   0\n",
       "Kilometers             0\n",
       "Year_of_Purchase       0\n",
       "Owner                  0\n",
       "Fuel_Type              0\n",
       "Transmission        2816\n",
       "RTO                    0\n",
       "Insurance           9193\n",
       "Insurance_Type         0\n",
       "dtype: int64"
      ]
     },
     "execution_count": 7,
     "metadata": {},
     "output_type": "execute_result"
    }
   ],
   "source": [
    "#Check the missing values\n",
    "Cars.isnull().sum()"
   ]
  },
  {
   "cell_type": "markdown",
   "metadata": {},
   "source": [
    "# Feautres Engineering :-\n",
    "\n",
    "#Data Cleaning"
   ]
  },
  {
   "cell_type": "code",
   "execution_count": 8,
   "metadata": {},
   "outputs": [],
   "source": [
    "##Splitting the price value only"
   ]
  },
  {
   "cell_type": "code",
   "execution_count": 9,
   "metadata": {},
   "outputs": [],
   "source": [
    "Cars.Price=Cars.Price.replace({',': ''}, regex=True)"
   ]
  },
  {
   "cell_type": "code",
   "execution_count": 10,
   "metadata": {},
   "outputs": [],
   "source": [
    "Cars['price']=Cars['Price'].apply(lambda p:p.split(' ')[-1])\n",
    "Cars['price']=Cars['price'].astype(int)"
   ]
  },
  {
   "cell_type": "code",
   "execution_count": 11,
   "metadata": {},
   "outputs": [
    {
     "data": {
      "text/html": [
       "<div>\n",
       "<style scoped>\n",
       "    .dataframe tbody tr th:only-of-type {\n",
       "        vertical-align: middle;\n",
       "    }\n",
       "\n",
       "    .dataframe tbody tr th {\n",
       "        vertical-align: top;\n",
       "    }\n",
       "\n",
       "    .dataframe thead th {\n",
       "        text-align: right;\n",
       "    }\n",
       "</style>\n",
       "<table border=\"1\" class=\"dataframe\">\n",
       "  <thead>\n",
       "    <tr style=\"text-align: right;\">\n",
       "      <th></th>\n",
       "      <th>Name</th>\n",
       "      <th>Price</th>\n",
       "      <th>Rating</th>\n",
       "      <th>city</th>\n",
       "      <th>Kilometers</th>\n",
       "      <th>Year_of_Purchase</th>\n",
       "      <th>Owner</th>\n",
       "      <th>Fuel_Type</th>\n",
       "      <th>Transmission</th>\n",
       "      <th>RTO</th>\n",
       "      <th>Insurance</th>\n",
       "      <th>Insurance_Type</th>\n",
       "      <th>price</th>\n",
       "    </tr>\n",
       "  </thead>\n",
       "  <tbody>\n",
       "    <tr>\n",
       "      <th>0</th>\n",
       "      <td>2010 Maruti Alto LXI</td>\n",
       "      <td>₹ 174699</td>\n",
       "      <td>4out of 5</td>\n",
       "      <td>3686</td>\n",
       "      <td>Kilometers34,854 km</td>\n",
       "      <td>Year of PurchaseMay 2010</td>\n",
       "      <td>OwnerFirst Owner</td>\n",
       "      <td>FuelPetrol</td>\n",
       "      <td>TransmissionMANUAL</td>\n",
       "      <td>RTOAP09</td>\n",
       "      <td>NaN</td>\n",
       "      <td>Insurance TypeInsurance Expired</td>\n",
       "      <td>174699</td>\n",
       "    </tr>\n",
       "    <tr>\n",
       "      <th>1</th>\n",
       "      <td>2013 Maruti Wagon R 1.0 VXI</td>\n",
       "      <td>₹ 333999</td>\n",
       "      <td>4.2out of 5</td>\n",
       "      <td>3686</td>\n",
       "      <td>Kilometers39,541 km</td>\n",
       "      <td>Year of PurchaseJuly 2013</td>\n",
       "      <td>OwnerSecond Owner</td>\n",
       "      <td>FuelPetrol</td>\n",
       "      <td>TransmissionMANUAL</td>\n",
       "      <td>RTOAP28</td>\n",
       "      <td>Insurance6/8/2021</td>\n",
       "      <td>Insurance TypeComp</td>\n",
       "      <td>333999</td>\n",
       "    </tr>\n",
       "    <tr>\n",
       "      <th>2</th>\n",
       "      <td>2014 Maruti Wagon R 1.0 VXI</td>\n",
       "      <td>₹ 353199</td>\n",
       "      <td>4.3out of 5</td>\n",
       "      <td>3686</td>\n",
       "      <td>Kilometers23,233 km</td>\n",
       "      <td>Year of PurchaseMarch 2014</td>\n",
       "      <td>OwnerSecond Owner</td>\n",
       "      <td>FuelPetrol</td>\n",
       "      <td>TransmissionMANUAL</td>\n",
       "      <td>RTOAP28</td>\n",
       "      <td>Insurance28/4/2021</td>\n",
       "      <td>Insurance TypeComp</td>\n",
       "      <td>353199</td>\n",
       "    </tr>\n",
       "    <tr>\n",
       "      <th>3</th>\n",
       "      <td>2013 Hyundai Eon D LITE PLUS</td>\n",
       "      <td>₹ 237899</td>\n",
       "      <td>4.4out of 5</td>\n",
       "      <td>3686</td>\n",
       "      <td>Kilometers27,748 km</td>\n",
       "      <td>Year of PurchaseNovember 2013</td>\n",
       "      <td>OwnerFirst Owner</td>\n",
       "      <td>FuelPetrol</td>\n",
       "      <td>TransmissionMANUAL</td>\n",
       "      <td>RTOAP13</td>\n",
       "      <td>Insurance1/1/2022</td>\n",
       "      <td>Insurance TypeComp</td>\n",
       "      <td>237899</td>\n",
       "    </tr>\n",
       "    <tr>\n",
       "      <th>4</th>\n",
       "      <td>2017 Hyundai Eon ERA PLUS</td>\n",
       "      <td>₹ 300699</td>\n",
       "      <td>4.4out of 5</td>\n",
       "      <td>3686</td>\n",
       "      <td>Kilometers12,238 km</td>\n",
       "      <td>Year of PurchaseAugust 2017</td>\n",
       "      <td>OwnerSecond Owner</td>\n",
       "      <td>FuelPetrol</td>\n",
       "      <td>TransmissionMANUAL</td>\n",
       "      <td>RTOTS10</td>\n",
       "      <td>NaN</td>\n",
       "      <td>Insurance TypeExpired</td>\n",
       "      <td>300699</td>\n",
       "    </tr>\n",
       "    <tr>\n",
       "      <th>...</th>\n",
       "      <td>...</td>\n",
       "      <td>...</td>\n",
       "      <td>...</td>\n",
       "      <td>...</td>\n",
       "      <td>...</td>\n",
       "      <td>...</td>\n",
       "      <td>...</td>\n",
       "      <td>...</td>\n",
       "      <td>...</td>\n",
       "      <td>...</td>\n",
       "      <td>...</td>\n",
       "      <td>...</td>\n",
       "      <td>...</td>\n",
       "    </tr>\n",
       "    <tr>\n",
       "      <th>32153</th>\n",
       "      <td>2008 Ford Fiesta 1.6 ZXI</td>\n",
       "      <td>₹ 150000</td>\n",
       "      <td>3.4out of 5</td>\n",
       "      <td>769</td>\n",
       "      <td>Kilometers95,792 km</td>\n",
       "      <td>Year of PurchaseFebruary 2008</td>\n",
       "      <td>OwnerThird Owner</td>\n",
       "      <td>FuelPetrol</td>\n",
       "      <td>TransmissionMANUAL</td>\n",
       "      <td>RTOCH04</td>\n",
       "      <td>NaN</td>\n",
       "      <td>Insurance TypeInsurance Expired</td>\n",
       "      <td>150000</td>\n",
       "    </tr>\n",
       "    <tr>\n",
       "      <th>32154</th>\n",
       "      <td>2015 Chevrolet Beat LS DIESEL</td>\n",
       "      <td>₹ 250000</td>\n",
       "      <td>3.5out of 5</td>\n",
       "      <td>769</td>\n",
       "      <td>Kilometers54,505 km</td>\n",
       "      <td>Year of PurchaseNovember 2015</td>\n",
       "      <td>OwnerSecond Owner</td>\n",
       "      <td>FuelDiesel</td>\n",
       "      <td>TransmissionMANUAL</td>\n",
       "      <td>RTOPB13</td>\n",
       "      <td>NaN</td>\n",
       "      <td>Insurance TypeInsurance Expired</td>\n",
       "      <td>250000</td>\n",
       "    </tr>\n",
       "    <tr>\n",
       "      <th>32155</th>\n",
       "      <td>2008 Ford Endeavour XLT TDCI 4X2</td>\n",
       "      <td>₹ 500000</td>\n",
       "      <td>3.6out of 5</td>\n",
       "      <td>769</td>\n",
       "      <td>Kilometers161,322 km</td>\n",
       "      <td>Year of PurchaseJanuary 2008</td>\n",
       "      <td>OwnerSecond Owner</td>\n",
       "      <td>FuelDiesel</td>\n",
       "      <td>TransmissionMANUAL</td>\n",
       "      <td>RTOHR03</td>\n",
       "      <td>NaN</td>\n",
       "      <td>Insurance TypeInsurance Expired</td>\n",
       "      <td>500000</td>\n",
       "    </tr>\n",
       "    <tr>\n",
       "      <th>32156</th>\n",
       "      <td>2016 Maruti Swift Dzire VDI ABS</td>\n",
       "      <td>₹ 600000</td>\n",
       "      <td>4.7out of 5</td>\n",
       "      <td>769</td>\n",
       "      <td>Kilometers52,006 km</td>\n",
       "      <td>Year of PurchaseOctober 2016</td>\n",
       "      <td>OwnerFirst Owner</td>\n",
       "      <td>FuelDiesel</td>\n",
       "      <td>NaN</td>\n",
       "      <td>RTOPB65</td>\n",
       "      <td>Insurance27/10/2019</td>\n",
       "      <td>Insurance TypeZero Depreciation</td>\n",
       "      <td>600000</td>\n",
       "    </tr>\n",
       "    <tr>\n",
       "      <th>32157</th>\n",
       "      <td>2007 Mercedes Benz C Class 220 CDI AT</td>\n",
       "      <td>₹ 484000</td>\n",
       "      <td>3.8out of 5</td>\n",
       "      <td>769</td>\n",
       "      <td>Kilometers88,818 km</td>\n",
       "      <td>Year of PurchaseMay 2007</td>\n",
       "      <td>OwnerSecond Owner</td>\n",
       "      <td>FuelDiesel</td>\n",
       "      <td>TransmissionAUTOMATIC</td>\n",
       "      <td>RTOPB65</td>\n",
       "      <td>Insurance28/11/2019</td>\n",
       "      <td>Insurance TypeComprehensive</td>\n",
       "      <td>484000</td>\n",
       "    </tr>\n",
       "  </tbody>\n",
       "</table>\n",
       "<p>32158 rows × 13 columns</p>\n",
       "</div>"
      ],
      "text/plain": [
       "                                        Name     Price       Rating  city  \\\n",
       "0                       2010 Maruti Alto LXI  ₹ 174699    4out of 5  3686   \n",
       "1                2013 Maruti Wagon R 1.0 VXI  ₹ 333999  4.2out of 5  3686   \n",
       "2                2014 Maruti Wagon R 1.0 VXI  ₹ 353199  4.3out of 5  3686   \n",
       "3               2013 Hyundai Eon D LITE PLUS  ₹ 237899  4.4out of 5  3686   \n",
       "4                  2017 Hyundai Eon ERA PLUS  ₹ 300699  4.4out of 5  3686   \n",
       "...                                      ...       ...          ...   ...   \n",
       "32153              2008 Ford Fiesta 1.6 ZXI   ₹ 150000  3.4out of 5   769   \n",
       "32154          2015 Chevrolet Beat LS DIESEL  ₹ 250000  3.5out of 5   769   \n",
       "32155       2008 Ford Endeavour XLT TDCI 4X2  ₹ 500000  3.6out of 5   769   \n",
       "32156        2016 Maruti Swift Dzire VDI ABS  ₹ 600000  4.7out of 5   769   \n",
       "32157  2007 Mercedes Benz C Class 220 CDI AT  ₹ 484000  3.8out of 5   769   \n",
       "\n",
       "                 Kilometers               Year_of_Purchase              Owner  \\\n",
       "0       Kilometers34,854 km       Year of PurchaseMay 2010   OwnerFirst Owner   \n",
       "1       Kilometers39,541 km      Year of PurchaseJuly 2013  OwnerSecond Owner   \n",
       "2       Kilometers23,233 km     Year of PurchaseMarch 2014  OwnerSecond Owner   \n",
       "3       Kilometers27,748 km  Year of PurchaseNovember 2013   OwnerFirst Owner   \n",
       "4       Kilometers12,238 km    Year of PurchaseAugust 2017  OwnerSecond Owner   \n",
       "...                     ...                            ...                ...   \n",
       "32153   Kilometers95,792 km  Year of PurchaseFebruary 2008   OwnerThird Owner   \n",
       "32154   Kilometers54,505 km  Year of PurchaseNovember 2015  OwnerSecond Owner   \n",
       "32155  Kilometers161,322 km   Year of PurchaseJanuary 2008  OwnerSecond Owner   \n",
       "32156   Kilometers52,006 km   Year of PurchaseOctober 2016   OwnerFirst Owner   \n",
       "32157   Kilometers88,818 km       Year of PurchaseMay 2007  OwnerSecond Owner   \n",
       "\n",
       "        Fuel_Type           Transmission      RTO            Insurance  \\\n",
       "0      FuelPetrol     TransmissionMANUAL  RTOAP09                  NaN   \n",
       "1      FuelPetrol     TransmissionMANUAL  RTOAP28    Insurance6/8/2021   \n",
       "2      FuelPetrol     TransmissionMANUAL  RTOAP28   Insurance28/4/2021   \n",
       "3      FuelPetrol     TransmissionMANUAL  RTOAP13    Insurance1/1/2022   \n",
       "4      FuelPetrol     TransmissionMANUAL  RTOTS10                  NaN   \n",
       "...           ...                    ...      ...                  ...   \n",
       "32153  FuelPetrol     TransmissionMANUAL  RTOCH04                  NaN   \n",
       "32154  FuelDiesel     TransmissionMANUAL  RTOPB13                  NaN   \n",
       "32155  FuelDiesel     TransmissionMANUAL  RTOHR03                  NaN   \n",
       "32156  FuelDiesel                    NaN  RTOPB65  Insurance27/10/2019   \n",
       "32157  FuelDiesel  TransmissionAUTOMATIC  RTOPB65  Insurance28/11/2019   \n",
       "\n",
       "                        Insurance_Type   price  \n",
       "0      Insurance TypeInsurance Expired  174699  \n",
       "1                   Insurance TypeComp  333999  \n",
       "2                   Insurance TypeComp  353199  \n",
       "3                   Insurance TypeComp  237899  \n",
       "4                Insurance TypeExpired  300699  \n",
       "...                                ...     ...  \n",
       "32153  Insurance TypeInsurance Expired  150000  \n",
       "32154  Insurance TypeInsurance Expired  250000  \n",
       "32155  Insurance TypeInsurance Expired  500000  \n",
       "32156  Insurance TypeZero Depreciation  600000  \n",
       "32157      Insurance TypeComprehensive  484000  \n",
       "\n",
       "[32158 rows x 13 columns]"
      ]
     },
     "execution_count": 11,
     "metadata": {},
     "output_type": "execute_result"
    }
   ],
   "source": [
    "Cars"
   ]
  },
  {
   "cell_type": "raw",
   "metadata": {},
   "source": [
    "# Rating column:"
   ]
  },
  {
   "cell_type": "code",
   "execution_count": 12,
   "metadata": {},
   "outputs": [],
   "source": [
    "# I want to remove (out of 5) string present in Rating column.\n",
    "Cars['Rating'] = Cars['Rating'].str.replace('out of 5',\"\")"
   ]
  },
  {
   "cell_type": "code",
   "execution_count": 13,
   "metadata": {},
   "outputs": [],
   "source": [
    "#Splitting Kilometer column\n"
   ]
  },
  {
   "cell_type": "code",
   "execution_count": 14,
   "metadata": {},
   "outputs": [],
   "source": [
    "Cars['Kilometers'] = Cars['Kilometers'].str.replace(r'\\W',\"\")\n",
    "Cars['Kilometers'] = Cars['Kilometers'].str.replace('Kilometers',\"\")\n",
    "Cars['Kilometers'] = Cars['Kilometers'].str.replace('km',\"\")"
   ]
  },
  {
   "cell_type": "code",
   "execution_count": 15,
   "metadata": {},
   "outputs": [],
   "source": [
    "##Cars['Year']=Cars['Year_of_Purchase'].apply(lambda x:x.split(' ')[-1])\n",
    "#Cars['Year']"
   ]
  },
  {
   "cell_type": "code",
   "execution_count": 16,
   "metadata": {},
   "outputs": [],
   "source": [
    "#Removing extra year of purchase\n",
    "Cars['Year_of_Purchase'] = Cars['Year_of_Purchase'].str.replace('Year of Purchase',\"\")"
   ]
  },
  {
   "cell_type": "code",
   "execution_count": 17,
   "metadata": {},
   "outputs": [],
   "source": [
    "Cars['Year_of_Purchase'] = pd.to_datetime(Cars['Year_of_Purchase'])\n",
    "\n",
    "#Cars['Year_of_Purchase'] = pd.to_numeric(pd.to_datetime(Cars['Year_of_Purchase']))\n",
    "\n",
    "Cars['year'] = Cars['Year_of_Purchase'].dt.year\n",
    "Cars['month'] = Cars['Year_of_Purchase'].dt.month\n",
    "\n",
    "\n",
    "#Cars['Year_of_Purchase'] = Cars['Year_of_Purchase'].apply(lambda x: x.strftime('%Y-%m'))"
   ]
  },
  {
   "cell_type": "code",
   "execution_count": 18,
   "metadata": {},
   "outputs": [],
   "source": [
    "#now drop the extra Year_of_Purchase column\n",
    "Cars.drop(['Year_of_Purchase'], axis='columns',inplace=True)"
   ]
  },
  {
   "cell_type": "code",
   "execution_count": 19,
   "metadata": {},
   "outputs": [],
   "source": [
    "Cars['Current Year']=2021"
   ]
  },
  {
   "cell_type": "code",
   "execution_count": 20,
   "metadata": {},
   "outputs": [],
   "source": [
    "Cars['no_of_yr']=Cars['Current Year']-Cars['year']"
   ]
  },
  {
   "cell_type": "code",
   "execution_count": 21,
   "metadata": {},
   "outputs": [
    {
     "data": {
      "text/html": [
       "<div>\n",
       "<style scoped>\n",
       "    .dataframe tbody tr th:only-of-type {\n",
       "        vertical-align: middle;\n",
       "    }\n",
       "\n",
       "    .dataframe tbody tr th {\n",
       "        vertical-align: top;\n",
       "    }\n",
       "\n",
       "    .dataframe thead th {\n",
       "        text-align: right;\n",
       "    }\n",
       "</style>\n",
       "<table border=\"1\" class=\"dataframe\">\n",
       "  <thead>\n",
       "    <tr style=\"text-align: right;\">\n",
       "      <th></th>\n",
       "      <th>Name</th>\n",
       "      <th>Price</th>\n",
       "      <th>Rating</th>\n",
       "      <th>city</th>\n",
       "      <th>Kilometers</th>\n",
       "      <th>Owner</th>\n",
       "      <th>Fuel_Type</th>\n",
       "      <th>Transmission</th>\n",
       "      <th>RTO</th>\n",
       "      <th>Insurance</th>\n",
       "      <th>Insurance_Type</th>\n",
       "      <th>price</th>\n",
       "      <th>year</th>\n",
       "      <th>month</th>\n",
       "      <th>Current Year</th>\n",
       "      <th>no_of_yr</th>\n",
       "    </tr>\n",
       "  </thead>\n",
       "  <tbody>\n",
       "    <tr>\n",
       "      <th>0</th>\n",
       "      <td>2010 Maruti Alto LXI</td>\n",
       "      <td>₹ 174699</td>\n",
       "      <td>4</td>\n",
       "      <td>3686</td>\n",
       "      <td>34854</td>\n",
       "      <td>OwnerFirst Owner</td>\n",
       "      <td>FuelPetrol</td>\n",
       "      <td>TransmissionMANUAL</td>\n",
       "      <td>RTOAP09</td>\n",
       "      <td>NaN</td>\n",
       "      <td>Insurance TypeInsurance Expired</td>\n",
       "      <td>174699</td>\n",
       "      <td>2010</td>\n",
       "      <td>5</td>\n",
       "      <td>2021</td>\n",
       "      <td>11</td>\n",
       "    </tr>\n",
       "    <tr>\n",
       "      <th>1</th>\n",
       "      <td>2013 Maruti Wagon R 1.0 VXI</td>\n",
       "      <td>₹ 333999</td>\n",
       "      <td>4.2</td>\n",
       "      <td>3686</td>\n",
       "      <td>39541</td>\n",
       "      <td>OwnerSecond Owner</td>\n",
       "      <td>FuelPetrol</td>\n",
       "      <td>TransmissionMANUAL</td>\n",
       "      <td>RTOAP28</td>\n",
       "      <td>Insurance6/8/2021</td>\n",
       "      <td>Insurance TypeComp</td>\n",
       "      <td>333999</td>\n",
       "      <td>2013</td>\n",
       "      <td>7</td>\n",
       "      <td>2021</td>\n",
       "      <td>8</td>\n",
       "    </tr>\n",
       "    <tr>\n",
       "      <th>2</th>\n",
       "      <td>2014 Maruti Wagon R 1.0 VXI</td>\n",
       "      <td>₹ 353199</td>\n",
       "      <td>4.3</td>\n",
       "      <td>3686</td>\n",
       "      <td>23233</td>\n",
       "      <td>OwnerSecond Owner</td>\n",
       "      <td>FuelPetrol</td>\n",
       "      <td>TransmissionMANUAL</td>\n",
       "      <td>RTOAP28</td>\n",
       "      <td>Insurance28/4/2021</td>\n",
       "      <td>Insurance TypeComp</td>\n",
       "      <td>353199</td>\n",
       "      <td>2014</td>\n",
       "      <td>3</td>\n",
       "      <td>2021</td>\n",
       "      <td>7</td>\n",
       "    </tr>\n",
       "    <tr>\n",
       "      <th>3</th>\n",
       "      <td>2013 Hyundai Eon D LITE PLUS</td>\n",
       "      <td>₹ 237899</td>\n",
       "      <td>4.4</td>\n",
       "      <td>3686</td>\n",
       "      <td>27748</td>\n",
       "      <td>OwnerFirst Owner</td>\n",
       "      <td>FuelPetrol</td>\n",
       "      <td>TransmissionMANUAL</td>\n",
       "      <td>RTOAP13</td>\n",
       "      <td>Insurance1/1/2022</td>\n",
       "      <td>Insurance TypeComp</td>\n",
       "      <td>237899</td>\n",
       "      <td>2013</td>\n",
       "      <td>11</td>\n",
       "      <td>2021</td>\n",
       "      <td>8</td>\n",
       "    </tr>\n",
       "    <tr>\n",
       "      <th>4</th>\n",
       "      <td>2017 Hyundai Eon ERA PLUS</td>\n",
       "      <td>₹ 300699</td>\n",
       "      <td>4.4</td>\n",
       "      <td>3686</td>\n",
       "      <td>12238</td>\n",
       "      <td>OwnerSecond Owner</td>\n",
       "      <td>FuelPetrol</td>\n",
       "      <td>TransmissionMANUAL</td>\n",
       "      <td>RTOTS10</td>\n",
       "      <td>NaN</td>\n",
       "      <td>Insurance TypeExpired</td>\n",
       "      <td>300699</td>\n",
       "      <td>2017</td>\n",
       "      <td>8</td>\n",
       "      <td>2021</td>\n",
       "      <td>4</td>\n",
       "    </tr>\n",
       "  </tbody>\n",
       "</table>\n",
       "</div>"
      ],
      "text/plain": [
       "                           Name     Price Rating  city Kilometers  \\\n",
       "0          2010 Maruti Alto LXI  ₹ 174699      4  3686      34854   \n",
       "1   2013 Maruti Wagon R 1.0 VXI  ₹ 333999    4.2  3686      39541   \n",
       "2   2014 Maruti Wagon R 1.0 VXI  ₹ 353199    4.3  3686      23233   \n",
       "3  2013 Hyundai Eon D LITE PLUS  ₹ 237899    4.4  3686      27748   \n",
       "4     2017 Hyundai Eon ERA PLUS  ₹ 300699    4.4  3686      12238   \n",
       "\n",
       "               Owner   Fuel_Type        Transmission      RTO  \\\n",
       "0   OwnerFirst Owner  FuelPetrol  TransmissionMANUAL  RTOAP09   \n",
       "1  OwnerSecond Owner  FuelPetrol  TransmissionMANUAL  RTOAP28   \n",
       "2  OwnerSecond Owner  FuelPetrol  TransmissionMANUAL  RTOAP28   \n",
       "3   OwnerFirst Owner  FuelPetrol  TransmissionMANUAL  RTOAP13   \n",
       "4  OwnerSecond Owner  FuelPetrol  TransmissionMANUAL  RTOTS10   \n",
       "\n",
       "            Insurance                   Insurance_Type   price  year  month  \\\n",
       "0                 NaN  Insurance TypeInsurance Expired  174699  2010      5   \n",
       "1   Insurance6/8/2021               Insurance TypeComp  333999  2013      7   \n",
       "2  Insurance28/4/2021               Insurance TypeComp  353199  2014      3   \n",
       "3   Insurance1/1/2022               Insurance TypeComp  237899  2013     11   \n",
       "4                 NaN            Insurance TypeExpired  300699  2017      8   \n",
       "\n",
       "   Current Year  no_of_yr  \n",
       "0          2021        11  \n",
       "1          2021         8  \n",
       "2          2021         7  \n",
       "3          2021         8  \n",
       "4          2021         4  "
      ]
     },
     "execution_count": 21,
     "metadata": {},
     "output_type": "execute_result"
    }
   ],
   "source": [
    "Cars.head()"
   ]
  },
  {
   "cell_type": "code",
   "execution_count": 22,
   "metadata": {},
   "outputs": [
    {
     "data": {
      "text/html": [
       "<div>\n",
       "<style scoped>\n",
       "    .dataframe tbody tr th:only-of-type {\n",
       "        vertical-align: middle;\n",
       "    }\n",
       "\n",
       "    .dataframe tbody tr th {\n",
       "        vertical-align: top;\n",
       "    }\n",
       "\n",
       "    .dataframe thead th {\n",
       "        text-align: right;\n",
       "    }\n",
       "</style>\n",
       "<table border=\"1\" class=\"dataframe\">\n",
       "  <thead>\n",
       "    <tr style=\"text-align: right;\">\n",
       "      <th></th>\n",
       "      <th>Name</th>\n",
       "      <th>Price</th>\n",
       "      <th>Rating</th>\n",
       "      <th>city</th>\n",
       "      <th>Kilometers</th>\n",
       "      <th>Owner</th>\n",
       "      <th>Fuel_Type</th>\n",
       "      <th>Transmission</th>\n",
       "      <th>RTO</th>\n",
       "      <th>Insurance</th>\n",
       "      <th>Insurance_Type</th>\n",
       "      <th>price</th>\n",
       "      <th>year</th>\n",
       "      <th>month</th>\n",
       "      <th>no_of_yr</th>\n",
       "    </tr>\n",
       "  </thead>\n",
       "  <tbody>\n",
       "    <tr>\n",
       "      <th>0</th>\n",
       "      <td>2010 Maruti Alto LXI</td>\n",
       "      <td>₹ 174699</td>\n",
       "      <td>4</td>\n",
       "      <td>3686</td>\n",
       "      <td>34854</td>\n",
       "      <td>OwnerFirst Owner</td>\n",
       "      <td>FuelPetrol</td>\n",
       "      <td>TransmissionMANUAL</td>\n",
       "      <td>RTOAP09</td>\n",
       "      <td>NaN</td>\n",
       "      <td>Insurance TypeInsurance Expired</td>\n",
       "      <td>174699</td>\n",
       "      <td>2010</td>\n",
       "      <td>5</td>\n",
       "      <td>11</td>\n",
       "    </tr>\n",
       "    <tr>\n",
       "      <th>1</th>\n",
       "      <td>2013 Maruti Wagon R 1.0 VXI</td>\n",
       "      <td>₹ 333999</td>\n",
       "      <td>4.2</td>\n",
       "      <td>3686</td>\n",
       "      <td>39541</td>\n",
       "      <td>OwnerSecond Owner</td>\n",
       "      <td>FuelPetrol</td>\n",
       "      <td>TransmissionMANUAL</td>\n",
       "      <td>RTOAP28</td>\n",
       "      <td>Insurance6/8/2021</td>\n",
       "      <td>Insurance TypeComp</td>\n",
       "      <td>333999</td>\n",
       "      <td>2013</td>\n",
       "      <td>7</td>\n",
       "      <td>8</td>\n",
       "    </tr>\n",
       "    <tr>\n",
       "      <th>2</th>\n",
       "      <td>2014 Maruti Wagon R 1.0 VXI</td>\n",
       "      <td>₹ 353199</td>\n",
       "      <td>4.3</td>\n",
       "      <td>3686</td>\n",
       "      <td>23233</td>\n",
       "      <td>OwnerSecond Owner</td>\n",
       "      <td>FuelPetrol</td>\n",
       "      <td>TransmissionMANUAL</td>\n",
       "      <td>RTOAP28</td>\n",
       "      <td>Insurance28/4/2021</td>\n",
       "      <td>Insurance TypeComp</td>\n",
       "      <td>353199</td>\n",
       "      <td>2014</td>\n",
       "      <td>3</td>\n",
       "      <td>7</td>\n",
       "    </tr>\n",
       "    <tr>\n",
       "      <th>3</th>\n",
       "      <td>2013 Hyundai Eon D LITE PLUS</td>\n",
       "      <td>₹ 237899</td>\n",
       "      <td>4.4</td>\n",
       "      <td>3686</td>\n",
       "      <td>27748</td>\n",
       "      <td>OwnerFirst Owner</td>\n",
       "      <td>FuelPetrol</td>\n",
       "      <td>TransmissionMANUAL</td>\n",
       "      <td>RTOAP13</td>\n",
       "      <td>Insurance1/1/2022</td>\n",
       "      <td>Insurance TypeComp</td>\n",
       "      <td>237899</td>\n",
       "      <td>2013</td>\n",
       "      <td>11</td>\n",
       "      <td>8</td>\n",
       "    </tr>\n",
       "    <tr>\n",
       "      <th>4</th>\n",
       "      <td>2017 Hyundai Eon ERA PLUS</td>\n",
       "      <td>₹ 300699</td>\n",
       "      <td>4.4</td>\n",
       "      <td>3686</td>\n",
       "      <td>12238</td>\n",
       "      <td>OwnerSecond Owner</td>\n",
       "      <td>FuelPetrol</td>\n",
       "      <td>TransmissionMANUAL</td>\n",
       "      <td>RTOTS10</td>\n",
       "      <td>NaN</td>\n",
       "      <td>Insurance TypeExpired</td>\n",
       "      <td>300699</td>\n",
       "      <td>2017</td>\n",
       "      <td>8</td>\n",
       "      <td>4</td>\n",
       "    </tr>\n",
       "  </tbody>\n",
       "</table>\n",
       "</div>"
      ],
      "text/plain": [
       "                           Name     Price Rating  city Kilometers  \\\n",
       "0          2010 Maruti Alto LXI  ₹ 174699      4  3686      34854   \n",
       "1   2013 Maruti Wagon R 1.0 VXI  ₹ 333999    4.2  3686      39541   \n",
       "2   2014 Maruti Wagon R 1.0 VXI  ₹ 353199    4.3  3686      23233   \n",
       "3  2013 Hyundai Eon D LITE PLUS  ₹ 237899    4.4  3686      27748   \n",
       "4     2017 Hyundai Eon ERA PLUS  ₹ 300699    4.4  3686      12238   \n",
       "\n",
       "               Owner   Fuel_Type        Transmission      RTO  \\\n",
       "0   OwnerFirst Owner  FuelPetrol  TransmissionMANUAL  RTOAP09   \n",
       "1  OwnerSecond Owner  FuelPetrol  TransmissionMANUAL  RTOAP28   \n",
       "2  OwnerSecond Owner  FuelPetrol  TransmissionMANUAL  RTOAP28   \n",
       "3   OwnerFirst Owner  FuelPetrol  TransmissionMANUAL  RTOAP13   \n",
       "4  OwnerSecond Owner  FuelPetrol  TransmissionMANUAL  RTOTS10   \n",
       "\n",
       "            Insurance                   Insurance_Type   price  year  month  \\\n",
       "0                 NaN  Insurance TypeInsurance Expired  174699  2010      5   \n",
       "1   Insurance6/8/2021               Insurance TypeComp  333999  2013      7   \n",
       "2  Insurance28/4/2021               Insurance TypeComp  353199  2014      3   \n",
       "3   Insurance1/1/2022               Insurance TypeComp  237899  2013     11   \n",
       "4                 NaN            Insurance TypeExpired  300699  2017      8   \n",
       "\n",
       "   no_of_yr  \n",
       "0        11  \n",
       "1         8  \n",
       "2         7  \n",
       "3         8  \n",
       "4         4  "
      ]
     },
     "execution_count": 22,
     "metadata": {},
     "output_type": "execute_result"
    }
   ],
   "source": [
    "Cars.drop(['Current Year',],axis=1,inplace=True)\n",
    "Cars.head()"
   ]
  },
  {
   "cell_type": "code",
   "execution_count": 23,
   "metadata": {},
   "outputs": [
    {
     "name": "stdout",
     "output_type": "stream",
     "text": [
      "<class 'pandas.core.frame.DataFrame'>\n",
      "RangeIndex: 32158 entries, 0 to 32157\n",
      "Data columns (total 15 columns):\n",
      " #   Column          Non-Null Count  Dtype \n",
      "---  ------          --------------  ----- \n",
      " 0   Name            32158 non-null  object\n",
      " 1   Price           32158 non-null  object\n",
      " 2   Rating          32158 non-null  object\n",
      " 3   city            32158 non-null  int64 \n",
      " 4   Kilometers      32158 non-null  object\n",
      " 5   Owner           32158 non-null  object\n",
      " 6   Fuel_Type       32158 non-null  object\n",
      " 7   Transmission    29342 non-null  object\n",
      " 8   RTO             32158 non-null  object\n",
      " 9   Insurance       22965 non-null  object\n",
      " 10  Insurance_Type  32158 non-null  object\n",
      " 11  price           32158 non-null  int32 \n",
      " 12  year            32158 non-null  int64 \n",
      " 13  month           32158 non-null  int64 \n",
      " 14  no_of_yr        32158 non-null  int64 \n",
      "dtypes: int32(1), int64(4), object(10)\n",
      "memory usage: 3.6+ MB\n"
     ]
    }
   ],
   "source": [
    "Cars.info()"
   ]
  },
  {
   "cell_type": "code",
   "execution_count": 24,
   "metadata": {},
   "outputs": [],
   "source": [
    "#Treating fuel_type column\n",
    "Cars['Fuel_Type'] = Cars['Fuel_Type'].str.replace('Fuel',\"\")"
   ]
  },
  {
   "cell_type": "markdown",
   "metadata": {},
   "source": [
    "Column Transmission:\n",
    "    \n",
    "Firstly we need to clean the column (Remove extra Transmission written by our features) or Encoded the column convert into Categorical to Numeric"
   ]
  },
  {
   "cell_type": "code",
   "execution_count": 25,
   "metadata": {},
   "outputs": [],
   "source": [
    "### Removing the extra Transmission string in our column\n",
    "Cars['Transmission'] = Cars['Transmission'].str.replace('Transmission',\"\")"
   ]
  },
  {
   "cell_type": "code",
   "execution_count": 26,
   "metadata": {},
   "outputs": [],
   "source": [
    "### Removing the extra Insurance string in our column\n",
    "Cars['Insurance'] = Cars['Insurance'].str.replace('Insurance',\"\")"
   ]
  },
  {
   "cell_type": "code",
   "execution_count": 27,
   "metadata": {},
   "outputs": [],
   "source": [
    "### Removing the extra Insurance string in our column\n",
    "Cars['Insurance_Type'] = Cars['Insurance_Type'].str.replace('Insurance Type',\"\")\n",
    "Cars['Insurance_Type'] = Cars['Insurance_Type'].str.replace('Insurance',\"\")\n",
    "\n",
    "\n",
    "### For removing space in the string\n",
    "Cars['Insurance_Type'] = Cars['Insurance_Type'].str.replace(\" \",\"\")"
   ]
  },
  {
   "cell_type": "code",
   "execution_count": 28,
   "metadata": {},
   "outputs": [],
   "source": [
    "#Treating Column Owner:\n",
    "Cars['Owner'] = Cars['Owner'].str.replace('Owner',\"\")"
   ]
  },
  {
   "cell_type": "markdown",
   "metadata": {},
   "source": [
    "## Column RTO\n",
    "\n",
    "* only taking statewise RTO column."
   ]
  },
  {
   "cell_type": "code",
   "execution_count": 29,
   "metadata": {},
   "outputs": [],
   "source": [
    "Numbers = [\"0\",'1',\"2\",\"3\",\"4\",\"5\",\"6\",\"7\",\"8\",\n",
    "              \"9\"]\n",
    "for n in Numbers:\n",
    "    Cars['RTO'] = Cars['RTO'].str.replace(n, '')"
   ]
  },
  {
   "cell_type": "markdown",
   "metadata": {},
   "source": [
    "For Name Column"
   ]
  },
  {
   "cell_type": "code",
   "execution_count": 30,
   "metadata": {},
   "outputs": [],
   "source": [
    "##splitting the Name column according to year model and brand name\n",
    "Name_n= Cars['Name'].str.split(\" \", n = 2, expand = True)\n",
    "Name_n.columns = ['Launch_year','Brand', 'Model']"
   ]
  },
  {
   "cell_type": "code",
   "execution_count": 31,
   "metadata": {},
   "outputs": [
    {
     "data": {
      "text/html": [
       "<div>\n",
       "<style scoped>\n",
       "    .dataframe tbody tr th:only-of-type {\n",
       "        vertical-align: middle;\n",
       "    }\n",
       "\n",
       "    .dataframe tbody tr th {\n",
       "        vertical-align: top;\n",
       "    }\n",
       "\n",
       "    .dataframe thead th {\n",
       "        text-align: right;\n",
       "    }\n",
       "</style>\n",
       "<table border=\"1\" class=\"dataframe\">\n",
       "  <thead>\n",
       "    <tr style=\"text-align: right;\">\n",
       "      <th></th>\n",
       "      <th>Name</th>\n",
       "      <th>Price</th>\n",
       "      <th>Rating</th>\n",
       "      <th>city</th>\n",
       "      <th>Kilometers</th>\n",
       "      <th>Owner</th>\n",
       "      <th>Fuel_Type</th>\n",
       "      <th>Transmission</th>\n",
       "      <th>RTO</th>\n",
       "      <th>Insurance</th>\n",
       "      <th>Insurance_Type</th>\n",
       "      <th>price</th>\n",
       "      <th>year</th>\n",
       "      <th>month</th>\n",
       "      <th>no_of_yr</th>\n",
       "    </tr>\n",
       "  </thead>\n",
       "  <tbody>\n",
       "    <tr>\n",
       "      <th>0</th>\n",
       "      <td>2010 Maruti Alto LXI</td>\n",
       "      <td>₹ 174699</td>\n",
       "      <td>4</td>\n",
       "      <td>3686</td>\n",
       "      <td>34854</td>\n",
       "      <td>First</td>\n",
       "      <td>Petrol</td>\n",
       "      <td>MANUAL</td>\n",
       "      <td>RTOAP</td>\n",
       "      <td>NaN</td>\n",
       "      <td>Expired</td>\n",
       "      <td>174699</td>\n",
       "      <td>2010</td>\n",
       "      <td>5</td>\n",
       "      <td>11</td>\n",
       "    </tr>\n",
       "    <tr>\n",
       "      <th>1</th>\n",
       "      <td>2013 Maruti Wagon R 1.0 VXI</td>\n",
       "      <td>₹ 333999</td>\n",
       "      <td>4.2</td>\n",
       "      <td>3686</td>\n",
       "      <td>39541</td>\n",
       "      <td>Second</td>\n",
       "      <td>Petrol</td>\n",
       "      <td>MANUAL</td>\n",
       "      <td>RTOAP</td>\n",
       "      <td>6/8/2021</td>\n",
       "      <td>Comp</td>\n",
       "      <td>333999</td>\n",
       "      <td>2013</td>\n",
       "      <td>7</td>\n",
       "      <td>8</td>\n",
       "    </tr>\n",
       "    <tr>\n",
       "      <th>2</th>\n",
       "      <td>2014 Maruti Wagon R 1.0 VXI</td>\n",
       "      <td>₹ 353199</td>\n",
       "      <td>4.3</td>\n",
       "      <td>3686</td>\n",
       "      <td>23233</td>\n",
       "      <td>Second</td>\n",
       "      <td>Petrol</td>\n",
       "      <td>MANUAL</td>\n",
       "      <td>RTOAP</td>\n",
       "      <td>28/4/2021</td>\n",
       "      <td>Comp</td>\n",
       "      <td>353199</td>\n",
       "      <td>2014</td>\n",
       "      <td>3</td>\n",
       "      <td>7</td>\n",
       "    </tr>\n",
       "  </tbody>\n",
       "</table>\n",
       "</div>"
      ],
      "text/plain": [
       "                          Name     Price Rating  city Kilometers    Owner  \\\n",
       "0         2010 Maruti Alto LXI  ₹ 174699      4  3686      34854   First    \n",
       "1  2013 Maruti Wagon R 1.0 VXI  ₹ 333999    4.2  3686      39541  Second    \n",
       "2  2014 Maruti Wagon R 1.0 VXI  ₹ 353199    4.3  3686      23233  Second    \n",
       "\n",
       "  Fuel_Type Transmission    RTO  Insurance Insurance_Type   price  year  \\\n",
       "0    Petrol       MANUAL  RTOAP        NaN        Expired  174699  2010   \n",
       "1    Petrol       MANUAL  RTOAP   6/8/2021           Comp  333999  2013   \n",
       "2    Petrol       MANUAL  RTOAP  28/4/2021           Comp  353199  2014   \n",
       "\n",
       "   month  no_of_yr  \n",
       "0      5        11  \n",
       "1      7         8  \n",
       "2      3         7  "
      ]
     },
     "execution_count": 31,
     "metadata": {},
     "output_type": "execute_result"
    }
   ],
   "source": [
    "Cars.head(3)"
   ]
  },
  {
   "cell_type": "code",
   "execution_count": 32,
   "metadata": {},
   "outputs": [
    {
     "data": {
      "text/html": [
       "<div>\n",
       "<style scoped>\n",
       "    .dataframe tbody tr th:only-of-type {\n",
       "        vertical-align: middle;\n",
       "    }\n",
       "\n",
       "    .dataframe tbody tr th {\n",
       "        vertical-align: top;\n",
       "    }\n",
       "\n",
       "    .dataframe thead th {\n",
       "        text-align: right;\n",
       "    }\n",
       "</style>\n",
       "<table border=\"1\" class=\"dataframe\">\n",
       "  <thead>\n",
       "    <tr style=\"text-align: right;\">\n",
       "      <th></th>\n",
       "      <th>Launch_year</th>\n",
       "      <th>Brand</th>\n",
       "      <th>Model</th>\n",
       "    </tr>\n",
       "  </thead>\n",
       "  <tbody>\n",
       "    <tr>\n",
       "      <th>0</th>\n",
       "      <td>2010</td>\n",
       "      <td>Maruti</td>\n",
       "      <td>Alto LXI</td>\n",
       "    </tr>\n",
       "    <tr>\n",
       "      <th>1</th>\n",
       "      <td>2013</td>\n",
       "      <td>Maruti</td>\n",
       "      <td>Wagon R 1.0 VXI</td>\n",
       "    </tr>\n",
       "    <tr>\n",
       "      <th>2</th>\n",
       "      <td>2014</td>\n",
       "      <td>Maruti</td>\n",
       "      <td>Wagon R 1.0 VXI</td>\n",
       "    </tr>\n",
       "  </tbody>\n",
       "</table>\n",
       "</div>"
      ],
      "text/plain": [
       "  Launch_year   Brand            Model\n",
       "0        2010  Maruti         Alto LXI\n",
       "1        2013  Maruti  Wagon R 1.0 VXI\n",
       "2        2014  Maruti  Wagon R 1.0 VXI"
      ]
     },
     "execution_count": 32,
     "metadata": {},
     "output_type": "execute_result"
    }
   ],
   "source": [
    "Name_n.head(3)"
   ]
  },
  {
   "cell_type": "code",
   "execution_count": 33,
   "metadata": {},
   "outputs": [
    {
     "name": "stdout",
     "output_type": "stream",
     "text": [
      "['maruti' 'hyundai' 'honda' 'chevrolet' 'ford' 'renault' 'volkswagen'\n",
      " 'tata' 'mahindra' 'toyota' 'datsun' 'mitsubishi' 'nissan' 'kia' 'fiat'\n",
      " 'skoda' 'opel' 'mg' 'volvo' 'jeep' 'mercedes' 'ssangyong' 'bmw' 'audi'\n",
      " 'daewoo' 'jaguar' 'landrover' 'force' 'isuzu' 'porsche' 'premier'\n",
      " 'hindustan' 'icml']\n",
      "['alto lxi' 'wagon r 1.0 vxi' 'eon d lite plus' ...\n",
      " 'scorpio vlx at bs iii' 'baleno rs 1.0' 'ciaz s 1.4']\n"
     ]
    }
   ],
   "source": [
    "Name_n['Brand'] = Name_n['Brand'].str.lower()\n",
    "Name_n['Model'] = Name_n['Model'].str.lower()\n",
    "print(Name_n['Brand'].unique())\n",
    "print(Name_n['Model'].unique())"
   ]
  },
  {
   "cell_type": "code",
   "execution_count": 34,
   "metadata": {},
   "outputs": [
    {
     "data": {
      "text/html": [
       "<div>\n",
       "<style scoped>\n",
       "    .dataframe tbody tr th:only-of-type {\n",
       "        vertical-align: middle;\n",
       "    }\n",
       "\n",
       "    .dataframe tbody tr th {\n",
       "        vertical-align: top;\n",
       "    }\n",
       "\n",
       "    .dataframe thead th {\n",
       "        text-align: right;\n",
       "    }\n",
       "</style>\n",
       "<table border=\"1\" class=\"dataframe\">\n",
       "  <thead>\n",
       "    <tr style=\"text-align: right;\">\n",
       "      <th></th>\n",
       "      <th>Brand</th>\n",
       "      <th>Model</th>\n",
       "    </tr>\n",
       "  </thead>\n",
       "  <tbody>\n",
       "    <tr>\n",
       "      <th>0</th>\n",
       "      <td>maruti</td>\n",
       "      <td>alto lxi</td>\n",
       "    </tr>\n",
       "    <tr>\n",
       "      <th>1</th>\n",
       "      <td>maruti</td>\n",
       "      <td>wagon r 1.0 vxi</td>\n",
       "    </tr>\n",
       "    <tr>\n",
       "      <th>2</th>\n",
       "      <td>maruti</td>\n",
       "      <td>wagon r 1.0 vxi</td>\n",
       "    </tr>\n",
       "    <tr>\n",
       "      <th>3</th>\n",
       "      <td>hyundai</td>\n",
       "      <td>eon d lite plus</td>\n",
       "    </tr>\n",
       "    <tr>\n",
       "      <th>4</th>\n",
       "      <td>hyundai</td>\n",
       "      <td>eon era plus</td>\n",
       "    </tr>\n",
       "    <tr>\n",
       "      <th>...</th>\n",
       "      <td>...</td>\n",
       "      <td>...</td>\n",
       "    </tr>\n",
       "    <tr>\n",
       "      <th>32153</th>\n",
       "      <td>ford</td>\n",
       "      <td>fiesta 1.6 zxi</td>\n",
       "    </tr>\n",
       "    <tr>\n",
       "      <th>32154</th>\n",
       "      <td>chevrolet</td>\n",
       "      <td>beat ls diesel</td>\n",
       "    </tr>\n",
       "    <tr>\n",
       "      <th>32155</th>\n",
       "      <td>ford</td>\n",
       "      <td>endeavour xlt tdci 4x2</td>\n",
       "    </tr>\n",
       "    <tr>\n",
       "      <th>32156</th>\n",
       "      <td>maruti</td>\n",
       "      <td>swift dzire vdi abs</td>\n",
       "    </tr>\n",
       "    <tr>\n",
       "      <th>32157</th>\n",
       "      <td>mercedes</td>\n",
       "      <td>benz c class 220 cdi at</td>\n",
       "    </tr>\n",
       "  </tbody>\n",
       "</table>\n",
       "<p>32158 rows × 2 columns</p>\n",
       "</div>"
      ],
      "text/plain": [
       "           Brand                    Model\n",
       "0         maruti                 alto lxi\n",
       "1         maruti          wagon r 1.0 vxi\n",
       "2         maruti          wagon r 1.0 vxi\n",
       "3        hyundai          eon d lite plus\n",
       "4        hyundai             eon era plus\n",
       "...          ...                      ...\n",
       "32153       ford          fiesta 1.6 zxi \n",
       "32154  chevrolet           beat ls diesel\n",
       "32155       ford   endeavour xlt tdci 4x2\n",
       "32156     maruti      swift dzire vdi abs\n",
       "32157   mercedes  benz c class 220 cdi at\n",
       "\n",
       "[32158 rows x 2 columns]"
      ]
     },
     "execution_count": 34,
     "metadata": {},
     "output_type": "execute_result"
    }
   ],
   "source": [
    "Name_n.drop(['Launch_year'],axis=1)"
   ]
  },
  {
   "cell_type": "code",
   "execution_count": 35,
   "metadata": {},
   "outputs": [
    {
     "data": {
      "text/html": [
       "<div>\n",
       "<style scoped>\n",
       "    .dataframe tbody tr th:only-of-type {\n",
       "        vertical-align: middle;\n",
       "    }\n",
       "\n",
       "    .dataframe tbody tr th {\n",
       "        vertical-align: top;\n",
       "    }\n",
       "\n",
       "    .dataframe thead th {\n",
       "        text-align: right;\n",
       "    }\n",
       "</style>\n",
       "<table border=\"1\" class=\"dataframe\">\n",
       "  <thead>\n",
       "    <tr style=\"text-align: right;\">\n",
       "      <th></th>\n",
       "      <th>Price</th>\n",
       "      <th>Rating</th>\n",
       "      <th>city</th>\n",
       "      <th>Kilometers</th>\n",
       "      <th>Owner</th>\n",
       "      <th>Fuel_Type</th>\n",
       "      <th>Transmission</th>\n",
       "      <th>RTO</th>\n",
       "      <th>Insurance</th>\n",
       "      <th>Insurance_Type</th>\n",
       "      <th>price</th>\n",
       "      <th>year</th>\n",
       "      <th>month</th>\n",
       "      <th>no_of_yr</th>\n",
       "      <th>Launch_year</th>\n",
       "      <th>Brand</th>\n",
       "      <th>Model</th>\n",
       "    </tr>\n",
       "  </thead>\n",
       "  <tbody>\n",
       "    <tr>\n",
       "      <th>0</th>\n",
       "      <td>₹ 174699</td>\n",
       "      <td>4</td>\n",
       "      <td>3686</td>\n",
       "      <td>34854</td>\n",
       "      <td>First</td>\n",
       "      <td>Petrol</td>\n",
       "      <td>MANUAL</td>\n",
       "      <td>RTOAP</td>\n",
       "      <td>NaN</td>\n",
       "      <td>Expired</td>\n",
       "      <td>174699</td>\n",
       "      <td>2010</td>\n",
       "      <td>5</td>\n",
       "      <td>11</td>\n",
       "      <td>2010</td>\n",
       "      <td>maruti</td>\n",
       "      <td>alto lxi</td>\n",
       "    </tr>\n",
       "    <tr>\n",
       "      <th>1</th>\n",
       "      <td>₹ 333999</td>\n",
       "      <td>4.2</td>\n",
       "      <td>3686</td>\n",
       "      <td>39541</td>\n",
       "      <td>Second</td>\n",
       "      <td>Petrol</td>\n",
       "      <td>MANUAL</td>\n",
       "      <td>RTOAP</td>\n",
       "      <td>6/8/2021</td>\n",
       "      <td>Comp</td>\n",
       "      <td>333999</td>\n",
       "      <td>2013</td>\n",
       "      <td>7</td>\n",
       "      <td>8</td>\n",
       "      <td>2013</td>\n",
       "      <td>maruti</td>\n",
       "      <td>wagon r 1.0 vxi</td>\n",
       "    </tr>\n",
       "    <tr>\n",
       "      <th>2</th>\n",
       "      <td>₹ 353199</td>\n",
       "      <td>4.3</td>\n",
       "      <td>3686</td>\n",
       "      <td>23233</td>\n",
       "      <td>Second</td>\n",
       "      <td>Petrol</td>\n",
       "      <td>MANUAL</td>\n",
       "      <td>RTOAP</td>\n",
       "      <td>28/4/2021</td>\n",
       "      <td>Comp</td>\n",
       "      <td>353199</td>\n",
       "      <td>2014</td>\n",
       "      <td>3</td>\n",
       "      <td>7</td>\n",
       "      <td>2014</td>\n",
       "      <td>maruti</td>\n",
       "      <td>wagon r 1.0 vxi</td>\n",
       "    </tr>\n",
       "    <tr>\n",
       "      <th>3</th>\n",
       "      <td>₹ 237899</td>\n",
       "      <td>4.4</td>\n",
       "      <td>3686</td>\n",
       "      <td>27748</td>\n",
       "      <td>First</td>\n",
       "      <td>Petrol</td>\n",
       "      <td>MANUAL</td>\n",
       "      <td>RTOAP</td>\n",
       "      <td>1/1/2022</td>\n",
       "      <td>Comp</td>\n",
       "      <td>237899</td>\n",
       "      <td>2013</td>\n",
       "      <td>11</td>\n",
       "      <td>8</td>\n",
       "      <td>2013</td>\n",
       "      <td>hyundai</td>\n",
       "      <td>eon d lite plus</td>\n",
       "    </tr>\n",
       "    <tr>\n",
       "      <th>4</th>\n",
       "      <td>₹ 300699</td>\n",
       "      <td>4.4</td>\n",
       "      <td>3686</td>\n",
       "      <td>12238</td>\n",
       "      <td>Second</td>\n",
       "      <td>Petrol</td>\n",
       "      <td>MANUAL</td>\n",
       "      <td>RTOTS</td>\n",
       "      <td>NaN</td>\n",
       "      <td>Expired</td>\n",
       "      <td>300699</td>\n",
       "      <td>2017</td>\n",
       "      <td>8</td>\n",
       "      <td>4</td>\n",
       "      <td>2017</td>\n",
       "      <td>hyundai</td>\n",
       "      <td>eon era plus</td>\n",
       "    </tr>\n",
       "    <tr>\n",
       "      <th>...</th>\n",
       "      <td>...</td>\n",
       "      <td>...</td>\n",
       "      <td>...</td>\n",
       "      <td>...</td>\n",
       "      <td>...</td>\n",
       "      <td>...</td>\n",
       "      <td>...</td>\n",
       "      <td>...</td>\n",
       "      <td>...</td>\n",
       "      <td>...</td>\n",
       "      <td>...</td>\n",
       "      <td>...</td>\n",
       "      <td>...</td>\n",
       "      <td>...</td>\n",
       "      <td>...</td>\n",
       "      <td>...</td>\n",
       "      <td>...</td>\n",
       "    </tr>\n",
       "    <tr>\n",
       "      <th>32153</th>\n",
       "      <td>₹ 150000</td>\n",
       "      <td>3.4</td>\n",
       "      <td>769</td>\n",
       "      <td>95792</td>\n",
       "      <td>Third</td>\n",
       "      <td>Petrol</td>\n",
       "      <td>MANUAL</td>\n",
       "      <td>RTOCH</td>\n",
       "      <td>NaN</td>\n",
       "      <td>Expired</td>\n",
       "      <td>150000</td>\n",
       "      <td>2008</td>\n",
       "      <td>2</td>\n",
       "      <td>13</td>\n",
       "      <td>2008</td>\n",
       "      <td>ford</td>\n",
       "      <td>fiesta 1.6 zxi</td>\n",
       "    </tr>\n",
       "    <tr>\n",
       "      <th>32154</th>\n",
       "      <td>₹ 250000</td>\n",
       "      <td>3.5</td>\n",
       "      <td>769</td>\n",
       "      <td>54505</td>\n",
       "      <td>Second</td>\n",
       "      <td>Diesel</td>\n",
       "      <td>MANUAL</td>\n",
       "      <td>RTOPB</td>\n",
       "      <td>NaN</td>\n",
       "      <td>Expired</td>\n",
       "      <td>250000</td>\n",
       "      <td>2015</td>\n",
       "      <td>11</td>\n",
       "      <td>6</td>\n",
       "      <td>2015</td>\n",
       "      <td>chevrolet</td>\n",
       "      <td>beat ls diesel</td>\n",
       "    </tr>\n",
       "    <tr>\n",
       "      <th>32155</th>\n",
       "      <td>₹ 500000</td>\n",
       "      <td>3.6</td>\n",
       "      <td>769</td>\n",
       "      <td>161322</td>\n",
       "      <td>Second</td>\n",
       "      <td>Diesel</td>\n",
       "      <td>MANUAL</td>\n",
       "      <td>RTOHR</td>\n",
       "      <td>NaN</td>\n",
       "      <td>Expired</td>\n",
       "      <td>500000</td>\n",
       "      <td>2008</td>\n",
       "      <td>1</td>\n",
       "      <td>13</td>\n",
       "      <td>2008</td>\n",
       "      <td>ford</td>\n",
       "      <td>endeavour xlt tdci 4x2</td>\n",
       "    </tr>\n",
       "    <tr>\n",
       "      <th>32156</th>\n",
       "      <td>₹ 600000</td>\n",
       "      <td>4.7</td>\n",
       "      <td>769</td>\n",
       "      <td>52006</td>\n",
       "      <td>First</td>\n",
       "      <td>Diesel</td>\n",
       "      <td>NaN</td>\n",
       "      <td>RTOPB</td>\n",
       "      <td>27/10/2019</td>\n",
       "      <td>ZeroDepreciation</td>\n",
       "      <td>600000</td>\n",
       "      <td>2016</td>\n",
       "      <td>10</td>\n",
       "      <td>5</td>\n",
       "      <td>2016</td>\n",
       "      <td>maruti</td>\n",
       "      <td>swift dzire vdi abs</td>\n",
       "    </tr>\n",
       "    <tr>\n",
       "      <th>32157</th>\n",
       "      <td>₹ 484000</td>\n",
       "      <td>3.8</td>\n",
       "      <td>769</td>\n",
       "      <td>88818</td>\n",
       "      <td>Second</td>\n",
       "      <td>Diesel</td>\n",
       "      <td>AUTOMATIC</td>\n",
       "      <td>RTOPB</td>\n",
       "      <td>28/11/2019</td>\n",
       "      <td>Comprehensive</td>\n",
       "      <td>484000</td>\n",
       "      <td>2007</td>\n",
       "      <td>5</td>\n",
       "      <td>14</td>\n",
       "      <td>2007</td>\n",
       "      <td>mercedes</td>\n",
       "      <td>benz c class 220 cdi at</td>\n",
       "    </tr>\n",
       "  </tbody>\n",
       "</table>\n",
       "<p>32158 rows × 17 columns</p>\n",
       "</div>"
      ],
      "text/plain": [
       "          Price Rating  city Kilometers    Owner Fuel_Type Transmission  \\\n",
       "0      ₹ 174699      4  3686      34854   First     Petrol       MANUAL   \n",
       "1      ₹ 333999    4.2  3686      39541  Second     Petrol       MANUAL   \n",
       "2      ₹ 353199    4.3  3686      23233  Second     Petrol       MANUAL   \n",
       "3      ₹ 237899    4.4  3686      27748   First     Petrol       MANUAL   \n",
       "4      ₹ 300699    4.4  3686      12238  Second     Petrol       MANUAL   \n",
       "...         ...    ...   ...        ...      ...       ...          ...   \n",
       "32153  ₹ 150000    3.4   769      95792   Third     Petrol       MANUAL   \n",
       "32154  ₹ 250000    3.5   769      54505  Second     Diesel       MANUAL   \n",
       "32155  ₹ 500000    3.6   769     161322  Second     Diesel       MANUAL   \n",
       "32156  ₹ 600000    4.7   769      52006   First     Diesel          NaN   \n",
       "32157  ₹ 484000    3.8   769      88818  Second     Diesel    AUTOMATIC   \n",
       "\n",
       "         RTO   Insurance    Insurance_Type   price  year  month  no_of_yr  \\\n",
       "0      RTOAP         NaN           Expired  174699  2010      5        11   \n",
       "1      RTOAP    6/8/2021              Comp  333999  2013      7         8   \n",
       "2      RTOAP   28/4/2021              Comp  353199  2014      3         7   \n",
       "3      RTOAP    1/1/2022              Comp  237899  2013     11         8   \n",
       "4      RTOTS         NaN           Expired  300699  2017      8         4   \n",
       "...      ...         ...               ...     ...   ...    ...       ...   \n",
       "32153  RTOCH         NaN           Expired  150000  2008      2        13   \n",
       "32154  RTOPB         NaN           Expired  250000  2015     11         6   \n",
       "32155  RTOHR         NaN           Expired  500000  2008      1        13   \n",
       "32156  RTOPB  27/10/2019  ZeroDepreciation  600000  2016     10         5   \n",
       "32157  RTOPB  28/11/2019     Comprehensive  484000  2007      5        14   \n",
       "\n",
       "      Launch_year      Brand                    Model  \n",
       "0            2010     maruti                 alto lxi  \n",
       "1            2013     maruti          wagon r 1.0 vxi  \n",
       "2            2014     maruti          wagon r 1.0 vxi  \n",
       "3            2013    hyundai          eon d lite plus  \n",
       "4            2017    hyundai             eon era plus  \n",
       "...           ...        ...                      ...  \n",
       "32153        2008       ford          fiesta 1.6 zxi   \n",
       "32154        2015  chevrolet           beat ls diesel  \n",
       "32155        2008       ford   endeavour xlt tdci 4x2  \n",
       "32156        2016     maruti      swift dzire vdi abs  \n",
       "32157        2007   mercedes  benz c class 220 cdi at  \n",
       "\n",
       "[32158 rows x 17 columns]"
      ]
     },
     "execution_count": 35,
     "metadata": {},
     "output_type": "execute_result"
    }
   ],
   "source": [
    "#now put new columns into original dataframe\n",
    "Car_data=pd.concat([Cars,Name_n],axis=1)\n",
    "Car_data.drop(['Name'],axis=1)"
   ]
  },
  {
   "cell_type": "code",
   "execution_count": 36,
   "metadata": {},
   "outputs": [],
   "source": [
    "pd.set_option('display.max_columns', None)\n"
   ]
  },
  {
   "cell_type": "code",
   "execution_count": 37,
   "metadata": {},
   "outputs": [
    {
     "data": {
      "text/html": [
       "<div>\n",
       "<style scoped>\n",
       "    .dataframe tbody tr th:only-of-type {\n",
       "        vertical-align: middle;\n",
       "    }\n",
       "\n",
       "    .dataframe tbody tr th {\n",
       "        vertical-align: top;\n",
       "    }\n",
       "\n",
       "    .dataframe thead th {\n",
       "        text-align: right;\n",
       "    }\n",
       "</style>\n",
       "<table border=\"1\" class=\"dataframe\">\n",
       "  <thead>\n",
       "    <tr style=\"text-align: right;\">\n",
       "      <th></th>\n",
       "      <th>Name</th>\n",
       "      <th>Price</th>\n",
       "      <th>Rating</th>\n",
       "      <th>city</th>\n",
       "      <th>Kilometers</th>\n",
       "      <th>Owner</th>\n",
       "      <th>Fuel_Type</th>\n",
       "      <th>Transmission</th>\n",
       "      <th>RTO</th>\n",
       "      <th>Insurance</th>\n",
       "      <th>Insurance_Type</th>\n",
       "      <th>price</th>\n",
       "      <th>year</th>\n",
       "      <th>month</th>\n",
       "      <th>no_of_yr</th>\n",
       "      <th>Launch_year</th>\n",
       "      <th>Brand</th>\n",
       "      <th>Model</th>\n",
       "    </tr>\n",
       "  </thead>\n",
       "  <tbody>\n",
       "    <tr>\n",
       "      <th>0</th>\n",
       "      <td>2010 Maruti Alto LXI</td>\n",
       "      <td>₹ 174699</td>\n",
       "      <td>4</td>\n",
       "      <td>3686</td>\n",
       "      <td>34854</td>\n",
       "      <td>First</td>\n",
       "      <td>Petrol</td>\n",
       "      <td>MANUAL</td>\n",
       "      <td>RTOAP</td>\n",
       "      <td>NaN</td>\n",
       "      <td>Expired</td>\n",
       "      <td>174699</td>\n",
       "      <td>2010</td>\n",
       "      <td>5</td>\n",
       "      <td>11</td>\n",
       "      <td>2010</td>\n",
       "      <td>maruti</td>\n",
       "      <td>alto lxi</td>\n",
       "    </tr>\n",
       "    <tr>\n",
       "      <th>1</th>\n",
       "      <td>2013 Maruti Wagon R 1.0 VXI</td>\n",
       "      <td>₹ 333999</td>\n",
       "      <td>4.2</td>\n",
       "      <td>3686</td>\n",
       "      <td>39541</td>\n",
       "      <td>Second</td>\n",
       "      <td>Petrol</td>\n",
       "      <td>MANUAL</td>\n",
       "      <td>RTOAP</td>\n",
       "      <td>6/8/2021</td>\n",
       "      <td>Comp</td>\n",
       "      <td>333999</td>\n",
       "      <td>2013</td>\n",
       "      <td>7</td>\n",
       "      <td>8</td>\n",
       "      <td>2013</td>\n",
       "      <td>maruti</td>\n",
       "      <td>wagon r 1.0 vxi</td>\n",
       "    </tr>\n",
       "    <tr>\n",
       "      <th>2</th>\n",
       "      <td>2014 Maruti Wagon R 1.0 VXI</td>\n",
       "      <td>₹ 353199</td>\n",
       "      <td>4.3</td>\n",
       "      <td>3686</td>\n",
       "      <td>23233</td>\n",
       "      <td>Second</td>\n",
       "      <td>Petrol</td>\n",
       "      <td>MANUAL</td>\n",
       "      <td>RTOAP</td>\n",
       "      <td>28/4/2021</td>\n",
       "      <td>Comp</td>\n",
       "      <td>353199</td>\n",
       "      <td>2014</td>\n",
       "      <td>3</td>\n",
       "      <td>7</td>\n",
       "      <td>2014</td>\n",
       "      <td>maruti</td>\n",
       "      <td>wagon r 1.0 vxi</td>\n",
       "    </tr>\n",
       "  </tbody>\n",
       "</table>\n",
       "</div>"
      ],
      "text/plain": [
       "                          Name     Price Rating  city Kilometers    Owner  \\\n",
       "0         2010 Maruti Alto LXI  ₹ 174699      4  3686      34854   First    \n",
       "1  2013 Maruti Wagon R 1.0 VXI  ₹ 333999    4.2  3686      39541  Second    \n",
       "2  2014 Maruti Wagon R 1.0 VXI  ₹ 353199    4.3  3686      23233  Second    \n",
       "\n",
       "  Fuel_Type Transmission    RTO  Insurance Insurance_Type   price  year  \\\n",
       "0    Petrol       MANUAL  RTOAP        NaN        Expired  174699  2010   \n",
       "1    Petrol       MANUAL  RTOAP   6/8/2021           Comp  333999  2013   \n",
       "2    Petrol       MANUAL  RTOAP  28/4/2021           Comp  353199  2014   \n",
       "\n",
       "   month  no_of_yr Launch_year   Brand            Model  \n",
       "0      5        11        2010  maruti         alto lxi  \n",
       "1      7         8        2013  maruti  wagon r 1.0 vxi  \n",
       "2      3         7        2014  maruti  wagon r 1.0 vxi  "
      ]
     },
     "execution_count": 37,
     "metadata": {},
     "output_type": "execute_result"
    }
   ],
   "source": [
    "pd.set_option('display.max_columns', None)\n",
    "Car_data.head(3)"
   ]
  },
  {
   "cell_type": "code",
   "execution_count": 38,
   "metadata": {},
   "outputs": [],
   "source": [
    "Car_data.to_csv('Cars24filtered.csv',index=False,)"
   ]
  },
  {
   "cell_type": "markdown",
   "metadata": {},
   "source": [
    "# *********Saving the filtered dataset**********############"
   ]
  },
  {
   "cell_type": "code",
   "execution_count": null,
   "metadata": {},
   "outputs": [],
   "source": []
  },
  {
   "cell_type": "code",
   "execution_count": null,
   "metadata": {},
   "outputs": [],
   "source": []
  },
  {
   "cell_type": "code",
   "execution_count": null,
   "metadata": {},
   "outputs": [],
   "source": []
  },
  {
   "cell_type": "markdown",
   "metadata": {},
   "source": [
    "# Now start work with new filtered data set"
   ]
  },
  {
   "cell_type": "code",
   "execution_count": 39,
   "metadata": {},
   "outputs": [],
   "source": [
    "# Importing all the Required Libraries\n",
    "import numpy as np\n",
    "import pandas as pd\n",
    "import matplotlib.pyplot as plt\n",
    "%matplotlib inline\n",
    "import seaborn as sns\n",
    "pd.set_option('display.max_columns', None)\n"
   ]
  },
  {
   "cell_type": "code",
   "execution_count": 40,
   "metadata": {},
   "outputs": [],
   "source": [
    "Car_Data=pd.read_csv('Cars24filtered.csv')"
   ]
  },
  {
   "cell_type": "code",
   "execution_count": 41,
   "metadata": {},
   "outputs": [
    {
     "data": {
      "text/html": [
       "<div>\n",
       "<style scoped>\n",
       "    .dataframe tbody tr th:only-of-type {\n",
       "        vertical-align: middle;\n",
       "    }\n",
       "\n",
       "    .dataframe tbody tr th {\n",
       "        vertical-align: top;\n",
       "    }\n",
       "\n",
       "    .dataframe thead th {\n",
       "        text-align: right;\n",
       "    }\n",
       "</style>\n",
       "<table border=\"1\" class=\"dataframe\">\n",
       "  <thead>\n",
       "    <tr style=\"text-align: right;\">\n",
       "      <th></th>\n",
       "      <th>Rating</th>\n",
       "      <th>city</th>\n",
       "      <th>Kilometers</th>\n",
       "      <th>Owner</th>\n",
       "      <th>Fuel_Type</th>\n",
       "      <th>Transmission</th>\n",
       "      <th>RTO</th>\n",
       "      <th>Insurance</th>\n",
       "      <th>Insurance_Type</th>\n",
       "      <th>price</th>\n",
       "      <th>year</th>\n",
       "      <th>month</th>\n",
       "      <th>no_of_yr</th>\n",
       "      <th>Brand</th>\n",
       "      <th>Model</th>\n",
       "    </tr>\n",
       "  </thead>\n",
       "  <tbody>\n",
       "    <tr>\n",
       "      <th>0</th>\n",
       "      <td>4.0</td>\n",
       "      <td>3686</td>\n",
       "      <td>34854</td>\n",
       "      <td>First</td>\n",
       "      <td>Petrol</td>\n",
       "      <td>MANUAL</td>\n",
       "      <td>RTOAP</td>\n",
       "      <td>NaN</td>\n",
       "      <td>Expired</td>\n",
       "      <td>174699</td>\n",
       "      <td>2010</td>\n",
       "      <td>5</td>\n",
       "      <td>11</td>\n",
       "      <td>maruti</td>\n",
       "      <td>alto lxi</td>\n",
       "    </tr>\n",
       "    <tr>\n",
       "      <th>1</th>\n",
       "      <td>4.2</td>\n",
       "      <td>3686</td>\n",
       "      <td>39541</td>\n",
       "      <td>Second</td>\n",
       "      <td>Petrol</td>\n",
       "      <td>MANUAL</td>\n",
       "      <td>RTOAP</td>\n",
       "      <td>6/8/2021</td>\n",
       "      <td>Comp</td>\n",
       "      <td>333999</td>\n",
       "      <td>2013</td>\n",
       "      <td>7</td>\n",
       "      <td>8</td>\n",
       "      <td>maruti</td>\n",
       "      <td>wagon r 1.0 vxi</td>\n",
       "    </tr>\n",
       "    <tr>\n",
       "      <th>2</th>\n",
       "      <td>4.3</td>\n",
       "      <td>3686</td>\n",
       "      <td>23233</td>\n",
       "      <td>Second</td>\n",
       "      <td>Petrol</td>\n",
       "      <td>MANUAL</td>\n",
       "      <td>RTOAP</td>\n",
       "      <td>28/4/2021</td>\n",
       "      <td>Comp</td>\n",
       "      <td>353199</td>\n",
       "      <td>2014</td>\n",
       "      <td>3</td>\n",
       "      <td>7</td>\n",
       "      <td>maruti</td>\n",
       "      <td>wagon r 1.0 vxi</td>\n",
       "    </tr>\n",
       "    <tr>\n",
       "      <th>3</th>\n",
       "      <td>4.4</td>\n",
       "      <td>3686</td>\n",
       "      <td>27748</td>\n",
       "      <td>First</td>\n",
       "      <td>Petrol</td>\n",
       "      <td>MANUAL</td>\n",
       "      <td>RTOAP</td>\n",
       "      <td>1/1/2022</td>\n",
       "      <td>Comp</td>\n",
       "      <td>237899</td>\n",
       "      <td>2013</td>\n",
       "      <td>11</td>\n",
       "      <td>8</td>\n",
       "      <td>hyundai</td>\n",
       "      <td>eon d lite plus</td>\n",
       "    </tr>\n",
       "    <tr>\n",
       "      <th>4</th>\n",
       "      <td>4.4</td>\n",
       "      <td>3686</td>\n",
       "      <td>12238</td>\n",
       "      <td>Second</td>\n",
       "      <td>Petrol</td>\n",
       "      <td>MANUAL</td>\n",
       "      <td>RTOTS</td>\n",
       "      <td>NaN</td>\n",
       "      <td>Expired</td>\n",
       "      <td>300699</td>\n",
       "      <td>2017</td>\n",
       "      <td>8</td>\n",
       "      <td>4</td>\n",
       "      <td>hyundai</td>\n",
       "      <td>eon era plus</td>\n",
       "    </tr>\n",
       "  </tbody>\n",
       "</table>\n",
       "</div>"
      ],
      "text/plain": [
       "   Rating  city  Kilometers    Owner Fuel_Type Transmission    RTO  Insurance  \\\n",
       "0     4.0  3686       34854   First     Petrol       MANUAL  RTOAP        NaN   \n",
       "1     4.2  3686       39541  Second     Petrol       MANUAL  RTOAP   6/8/2021   \n",
       "2     4.3  3686       23233  Second     Petrol       MANUAL  RTOAP  28/4/2021   \n",
       "3     4.4  3686       27748   First     Petrol       MANUAL  RTOAP   1/1/2022   \n",
       "4     4.4  3686       12238  Second     Petrol       MANUAL  RTOTS        NaN   \n",
       "\n",
       "  Insurance_Type   price  year  month  no_of_yr    Brand            Model  \n",
       "0        Expired  174699  2010      5        11   maruti         alto lxi  \n",
       "1           Comp  333999  2013      7         8   maruti  wagon r 1.0 vxi  \n",
       "2           Comp  353199  2014      3         7   maruti  wagon r 1.0 vxi  \n",
       "3           Comp  237899  2013     11         8  hyundai  eon d lite plus  \n",
       "4        Expired  300699  2017      8         4  hyundai     eon era plus  "
      ]
     },
     "execution_count": 41,
     "metadata": {},
     "output_type": "execute_result"
    }
   ],
   "source": [
    "Carfinal=Car_Data.drop(['Price','Name','Launch_year'],axis=1)\n",
    "Carfinal.head()"
   ]
  },
  {
   "cell_type": "code",
   "execution_count": 42,
   "metadata": {},
   "outputs": [
    {
     "name": "stdout",
     "output_type": "stream",
     "text": [
      "<class 'pandas.core.frame.DataFrame'>\n",
      "RangeIndex: 32158 entries, 0 to 32157\n",
      "Data columns (total 15 columns):\n",
      " #   Column          Non-Null Count  Dtype  \n",
      "---  ------          --------------  -----  \n",
      " 0   Rating          32158 non-null  float64\n",
      " 1   city            32158 non-null  int64  \n",
      " 2   Kilometers      32158 non-null  int64  \n",
      " 3   Owner           32158 non-null  object \n",
      " 4   Fuel_Type       32158 non-null  object \n",
      " 5   Transmission    29342 non-null  object \n",
      " 6   RTO             32158 non-null  object \n",
      " 7   Insurance       22965 non-null  object \n",
      " 8   Insurance_Type  32156 non-null  object \n",
      " 9   price           32158 non-null  int64  \n",
      " 10  year            32158 non-null  int64  \n",
      " 11  month           32158 non-null  int64  \n",
      " 12  no_of_yr        32158 non-null  int64  \n",
      " 13  Brand           32158 non-null  object \n",
      " 14  Model           32158 non-null  object \n",
      "dtypes: float64(1), int64(6), object(8)\n",
      "memory usage: 3.7+ MB\n"
     ]
    }
   ],
   "source": [
    "Carfinal.info()"
   ]
  },
  {
   "cell_type": "code",
   "execution_count": 43,
   "metadata": {},
   "outputs": [
    {
     "data": {
      "text/plain": [
       "(32158, 15)"
      ]
     },
     "execution_count": 43,
     "metadata": {},
     "output_type": "execute_result"
    }
   ],
   "source": [
    "Carfinal.shape"
   ]
  },
  {
   "cell_type": "code",
   "execution_count": 44,
   "metadata": {},
   "outputs": [
    {
     "data": {
      "text/plain": [
       "Index(['Rating', 'city', 'Kilometers', 'Owner', 'Fuel_Type', 'Transmission',\n",
       "       'RTO', 'Insurance', 'Insurance_Type', 'price', 'year', 'month',\n",
       "       'no_of_yr', 'Brand', 'Model'],\n",
       "      dtype='object')"
      ]
     },
     "execution_count": 44,
     "metadata": {},
     "output_type": "execute_result"
    }
   ],
   "source": [
    "Carfinal.keys()"
   ]
  },
  {
   "cell_type": "markdown",
   "metadata": {},
   "source": [
    "# EDA Part\n"
   ]
  },
  {
   "cell_type": "code",
   "execution_count": 45,
   "metadata": {},
   "outputs": [],
   "source": [
    "###We have to find out which company sells more no.of cars."
   ]
  },
  {
   "cell_type": "code",
   "execution_count": 46,
   "metadata": {},
   "outputs": [
    {
     "data": {
      "text/plain": [
       "array(['maruti', 'hyundai', 'honda', 'chevrolet', 'ford', 'renault',\n",
       "       'volkswagen', 'tata', 'mahindra', 'toyota', 'datsun', 'mitsubishi',\n",
       "       'nissan', 'kia', 'fiat', 'skoda', 'opel', 'mg', 'volvo', 'jeep',\n",
       "       'mercedes', 'ssangyong', 'bmw', 'audi', 'daewoo', 'jaguar',\n",
       "       'landrover', 'force', 'isuzu', 'porsche', 'premier', 'hindustan',\n",
       "       'icml'], dtype=object)"
      ]
     },
     "execution_count": 46,
     "metadata": {},
     "output_type": "execute_result"
    }
   ],
   "source": [
    "Carfinal['Brand'].unique()"
   ]
  },
  {
   "cell_type": "code",
   "execution_count": 47,
   "metadata": {},
   "outputs": [
    {
     "data": {
      "text/plain": [
       "<AxesSubplot:title={'center':'Cars sold per company'}, xlabel='Brand Name', ylabel='No. of cars sold'>"
      ]
     },
     "execution_count": 47,
     "metadata": {},
     "output_type": "execute_result"
    },
    {
     "data": {
      "image/png": "[encoded data removed]",
      "text/plain": [
       "<Figure size 1440x720 with 1 Axes>"
      ]
     },
     "metadata": {
      "needs_background": "light"
     },
     "output_type": "display_data"
    }
   ],
   "source": [
    "plt.figure(figsize=(20,10))\n",
    "plt.xlabel('Brand Name')\n",
    "plt.ylabel('No. of cars sold')\n",
    "plt.title('Cars sold per company')\n",
    "Carfinal['Brand'].value_counts().plot(kind='bar')"
   ]
  },
  {
   "cell_type": "markdown",
   "metadata": {},
   "source": [
    "**From the graph we find that Brand Maruti solds more no. of cars."
   ]
  },
  {
   "cell_type": "code",
   "execution_count": 48,
   "metadata": {},
   "outputs": [
    {
     "data": {
      "text/plain": [
       "<AxesSubplot:title={'center':'Cars Purchased pre year'}, xlabel='year', ylabel='No. of cars '>"
      ]
     },
     "execution_count": 48,
     "metadata": {},
     "output_type": "execute_result"
    },
    {
     "data": {
      "image/png": "[encoded data removed]",
      "text/plain": [
       "<Figure size 1440x720 with 1 Axes>"
      ]
     },
     "metadata": {
      "needs_background": "light"
     },
     "output_type": "display_data"
    }
   ],
   "source": [
    "###What is the no.of cars purchased per year???\n",
    "plt.figure(figsize=(20,10))\n",
    "plt.xlabel('year')\n",
    "plt.ylabel('No. of cars ')\n",
    "plt.title('Cars Purchased pre year')\n",
    "Carfinal['year'].value_counts().plot.bar()"
   ]
  },
  {
   "cell_type": "code",
   "execution_count": 49,
   "metadata": {},
   "outputs": [
    {
     "data": {
      "text/plain": [
       "Brand\n",
       "audi          1.573726e+06\n",
       "bmw           1.518635e+06\n",
       "chevrolet     2.036165e+05\n",
       "daewoo        3.356429e+04\n",
       "datsun        2.834298e+05\n",
       "fiat          2.426789e+05\n",
       "force         4.041773e+05\n",
       "ford          3.975448e+05\n",
       "hindustan     1.059444e+05\n",
       "honda         4.712408e+05\n",
       "hyundai       4.172228e+05\n",
       "icml          7.000000e+04\n",
       "isuzu         1.319492e+06\n",
       "jaguar        2.637736e+06\n",
       "jeep          1.638579e+06\n",
       "kia           1.801115e+06\n",
       "landrover     2.476015e+06\n",
       "mahindra      6.031117e+05\n",
       "maruti        3.723931e+05\n",
       "mercedes      1.651188e+06\n",
       "mg            1.772836e+06\n",
       "mitsubishi    5.679133e+05\n",
       "nissan        3.911729e+05\n",
       "opel          6.038462e+04\n",
       "porsche       3.257040e+06\n",
       "premier       1.600000e+05\n",
       "renault       4.569121e+05\n",
       "skoda         4.734462e+05\n",
       "ssangyong     7.099384e+05\n",
       "tata          2.974841e+05\n",
       "toyota        7.517195e+05\n",
       "volkswagen    4.641221e+05\n",
       "volvo         1.672766e+06\n",
       "Name: price, dtype: float64"
      ]
     },
     "execution_count": 49,
     "metadata": {},
     "output_type": "execute_result"
    }
   ],
   "source": [
    "###What is the average price for each Brand???\n",
    "price_m = Carfinal.groupby('Brand').price.mean()\n",
    "price_m"
   ]
  },
  {
   "cell_type": "code",
   "execution_count": 50,
   "metadata": {},
   "outputs": [
    {
     "data": {
      "text/plain": [
       "<AxesSubplot:title={'center':'Average price of cars per Brand'}, xlabel='Brand', ylabel='Average price (in lacs) in rupees'>"
      ]
     },
     "execution_count": 50,
     "metadata": {},
     "output_type": "execute_result"
    },
    {
     "data": {
      "image/png": "[encoded data removed]",
      "text/plain": [
       "<Figure size 1440x720 with 1 Axes>"
      ]
     },
     "metadata": {
      "needs_background": "light"
     },
     "output_type": "display_data"
    }
   ],
   "source": [
    "plt.figure(figsize=(20,10))\n",
    "plt.xlabel('Brand Name')\n",
    "plt.ylabel('Average price (in lacs) in rupees')\n",
    "price_m.plot(kind='bar', title = 'Average price of cars per Brand')"
   ]
  },
  {
   "cell_type": "code",
   "execution_count": 51,
   "metadata": {},
   "outputs": [],
   "source": [
    "#Finding the Average kilometres with respect to brands to know after how much km driving one person like to sell the car.\n",
    "km = Carfinal.groupby('Brand').Kilometers.mean()"
   ]
  },
  {
   "cell_type": "code",
   "execution_count": 52,
   "metadata": {},
   "outputs": [
    {
     "data": {
      "text/plain": [
       "<AxesSubplot:title={'center':'km_driven vs company plot'}, xlabel='Brand', ylabel='Average km_driven'>"
      ]
     },
     "execution_count": 52,
     "metadata": {},
     "output_type": "execute_result"
    },
    {
     "data": {
      "image/png": "[encoded data removed]",
      "text/plain": [
       "<Figure size 1440x720 with 1 Axes>"
      ]
     },
     "metadata": {
      "needs_background": "light"
     },
     "output_type": "display_data"
    }
   ],
   "source": [
    "plt.figure(figsize=(20,10))\n",
    "plt.xlabel('Brand Name')\n",
    "plt.ylabel('Average km_driven')\n",
    "km.plot(kind='bar', title = 'km_driven vs company plot')"
   ]
  },
  {
   "cell_type": "code",
   "execution_count": 53,
   "metadata": {},
   "outputs": [
    {
     "data": {
      "text/plain": [
       "Rating               0\n",
       "city                 0\n",
       "Kilometers           0\n",
       "Owner                0\n",
       "Fuel_Type            0\n",
       "Transmission      2816\n",
       "RTO                  0\n",
       "Insurance         9193\n",
       "Insurance_Type       2\n",
       "price                0\n",
       "year                 0\n",
       "month                0\n",
       "no_of_yr             0\n",
       "Brand                0\n",
       "Model                0\n",
       "dtype: int64"
      ]
     },
     "execution_count": 53,
     "metadata": {},
     "output_type": "execute_result"
    }
   ],
   "source": [
    "###Missing value computation\n",
    "Carfinal.isnull().sum()"
   ]
  },
  {
   "cell_type": "markdown",
   "metadata": {},
   "source": [
    "From above anlysis we found column Transmission,Insurance have high no. missing values and Insurance_Type has only 2 missing values."
   ]
  },
  {
   "cell_type": "code",
   "execution_count": 54,
   "metadata": {},
   "outputs": [
    {
     "data": {
      "text/plain": [
       "array(['MANUAL', nan, 'AUTOMATIC'], dtype=object)"
      ]
     },
     "execution_count": 54,
     "metadata": {},
     "output_type": "execute_result"
    }
   ],
   "source": [
    "Carfinal.Transmission.unique()"
   ]
  },
  {
   "cell_type": "code",
   "execution_count": 55,
   "metadata": {},
   "outputs": [
    {
     "data": {
      "text/plain": [
       "array(['Expired', 'Comp', 'Third_party', 'Zero_Dep', nan,\n",
       "       'ZeroDepreciation', '3rdParty', 'Comprehensive', 'NotAvailable',\n",
       "       'Normal'], dtype=object)"
      ]
     },
     "execution_count": 55,
     "metadata": {},
     "output_type": "execute_result"
    }
   ],
   "source": [
    "Carfinal.Insurance_Type.unique()"
   ]
  },
  {
   "cell_type": "code",
   "execution_count": 56,
   "metadata": {},
   "outputs": [],
   "source": [
    "from sklearn.impute import SimpleImputer\n",
    "\n",
    "S_imputer = SimpleImputer(missing_values = np.nan, strategy = 'most_frequent')\n",
    "Carfinal['Transmission'] = pd.DataFrame(S_imputer.fit_transform(Carfinal[['Transmission']]))\n",
    "Carfinal['Insurance_Type'] = pd.DataFrame(S_imputer.fit_transform(Carfinal[['Insurance_Type']]))"
   ]
  },
  {
   "cell_type": "code",
   "execution_count": 57,
   "metadata": {},
   "outputs": [
    {
     "data": {
      "text/plain": [
       "array(['MANUAL', 'AUTOMATIC'], dtype=object)"
      ]
     },
     "execution_count": 57,
     "metadata": {},
     "output_type": "execute_result"
    }
   ],
   "source": [
    "Carfinal.Transmission.unique()"
   ]
  },
  {
   "cell_type": "code",
   "execution_count": 58,
   "metadata": {},
   "outputs": [
    {
     "data": {
      "text/plain": [
       "array(['Expired', 'Comp', 'Third_party', 'Zero_Dep', 'ZeroDepreciation',\n",
       "       '3rdParty', 'Comprehensive', 'NotAvailable', 'Normal'],\n",
       "      dtype=object)"
      ]
     },
     "execution_count": 58,
     "metadata": {},
     "output_type": "execute_result"
    }
   ],
   "source": [
    "Carfinal.Insurance_Type.unique()"
   ]
  },
  {
   "cell_type": "code",
   "execution_count": 59,
   "metadata": {},
   "outputs": [],
   "source": [
    "###Droping the Insurance column as there is no such method for date column\n",
    "Carfinal.drop(['Insurance'],axis=1,inplace = True)"
   ]
  },
  {
   "cell_type": "code",
   "execution_count": 60,
   "metadata": {},
   "outputs": [
    {
     "name": "stdout",
     "output_type": "stream",
     "text": [
      "<class 'pandas.core.frame.DataFrame'>\n",
      "RangeIndex: 32158 entries, 0 to 32157\n",
      "Data columns (total 14 columns):\n",
      " #   Column          Non-Null Count  Dtype  \n",
      "---  ------          --------------  -----  \n",
      " 0   Rating          32158 non-null  float64\n",
      " 1   city            32158 non-null  int64  \n",
      " 2   Kilometers      32158 non-null  int64  \n",
      " 3   Owner           32158 non-null  object \n",
      " 4   Fuel_Type       32158 non-null  object \n",
      " 5   Transmission    32158 non-null  object \n",
      " 6   RTO             32158 non-null  object \n",
      " 7   Insurance_Type  32158 non-null  object \n",
      " 8   price           32158 non-null  int64  \n",
      " 9   year            32158 non-null  int64  \n",
      " 10  month           32158 non-null  int64  \n",
      " 11  no_of_yr        32158 non-null  int64  \n",
      " 12  Brand           32158 non-null  object \n",
      " 13  Model           32158 non-null  object \n",
      "dtypes: float64(1), int64(6), object(7)\n",
      "memory usage: 3.4+ MB\n"
     ]
    }
   ],
   "source": [
    "Carfinal.info()"
   ]
  },
  {
   "cell_type": "code",
   "execution_count": 61,
   "metadata": {},
   "outputs": [
    {
     "data": {
      "text/plain": [
       "Rating            0\n",
       "city              0\n",
       "Kilometers        0\n",
       "Owner             0\n",
       "Fuel_Type         0\n",
       "Transmission      0\n",
       "RTO               0\n",
       "Insurance_Type    0\n",
       "price             0\n",
       "year              0\n",
       "month             0\n",
       "no_of_yr          0\n",
       "Brand             0\n",
       "Model             0\n",
       "dtype: int64"
      ]
     },
     "execution_count": 61,
     "metadata": {},
     "output_type": "execute_result"
    }
   ],
   "source": [
    "Carfinal.isnull().sum()"
   ]
  },
  {
   "cell_type": "markdown",
   "metadata": {},
   "source": [
    "#Now work for Insurance_Type column"
   ]
  },
  {
   "cell_type": "code",
   "execution_count": 62,
   "metadata": {},
   "outputs": [
    {
     "data": {
      "text/plain": [
       "array(['Expired', 'Comp', 'Third_party', 'Zero_Dep', 'ZeroDepreciation',\n",
       "       '3rdParty', 'Comprehensive', 'NotAvailable', 'Normal'],\n",
       "      dtype=object)"
      ]
     },
     "execution_count": 62,
     "metadata": {},
     "output_type": "execute_result"
    }
   ],
   "source": [
    "Carfinal.Insurance_Type.unique()"
   ]
  },
  {
   "cell_type": "code",
   "execution_count": 63,
   "metadata": {},
   "outputs": [],
   "source": [
    "# Naming the duplicate string \n",
    "Carfinal[\"Insurance_Type\"]=Carfinal[\"Insurance_Type\"].str.replace('Comp', 'Comprehensive')\n",
    "Carfinal[\"Insurance_Type\"]=Carfinal[\"Insurance_Type\"].str.replace('Zero_Dep', 'ZeroDepreciation')\n",
    "Carfinal[\"Insurance_Type\"]=Carfinal[\"Insurance_Type\"].str.replace('3rdParty', 'Third_party')\n",
    "Carfinal[\"Insurance_Type\"]=Carfinal[\"Insurance_Type\"].str.replace('NotAvailable', 'Expired')\n"
   ]
  },
  {
   "cell_type": "code",
   "execution_count": 64,
   "metadata": {},
   "outputs": [
    {
     "data": {
      "text/plain": [
       "array(['Expired', 'Comprehensive', 'Third_party', 'ZeroDepreciation',\n",
       "       'Comprehensiverehensive', 'Normal'], dtype=object)"
      ]
     },
     "execution_count": 64,
     "metadata": {},
     "output_type": "execute_result"
    }
   ],
   "source": [
    "#Now let's see the new data\n",
    "Carfinal.Insurance_Type.unique()"
   ]
  },
  {
   "cell_type": "code",
   "execution_count": 65,
   "metadata": {},
   "outputs": [],
   "source": [
    "Carfinal[\"Insurance_Type\"]=Carfinal[\"Insurance_Type\"].str.replace('Comprehensiverehensive', 'Comprehensive')\n",
    "Carfinal[\"Insurance_Type\"]=Carfinal[\"Insurance_Type\"].str.replace('Comprehensiverehensiverehensive', 'Comprehensive')\n"
   ]
  },
  {
   "cell_type": "code",
   "execution_count": 66,
   "metadata": {},
   "outputs": [
    {
     "data": {
      "text/plain": [
       "array(['Expired', 'Comprehensive', 'Third_party', 'ZeroDepreciation',\n",
       "       'Normal'], dtype=object)"
      ]
     },
     "execution_count": 66,
     "metadata": {},
     "output_type": "execute_result"
    }
   ],
   "source": [
    "Carfinal.Insurance_Type.unique()"
   ]
  },
  {
   "cell_type": "code",
   "execution_count": 67,
   "metadata": {},
   "outputs": [
    {
     "data": {
      "text/plain": [
       "Comprehensive       11801\n",
       "Expired              9428\n",
       "Third_party          6290\n",
       "ZeroDepreciation     4634\n",
       "Normal                  5\n",
       "Name: Insurance_Type, dtype: int64"
      ]
     },
     "execution_count": 67,
     "metadata": {},
     "output_type": "execute_result"
    }
   ],
   "source": [
    "Carfinal.Insurance_Type.value_counts()"
   ]
  },
  {
   "cell_type": "code",
   "execution_count": 68,
   "metadata": {},
   "outputs": [
    {
     "name": "stdout",
     "output_type": "stream",
     "text": [
      "Owner :  10 labels\n",
      "Fuel_Type :  6 labels\n",
      "Transmission :  2 labels\n",
      "RTO :  86 labels\n",
      "Insurance_Type :  5 labels\n",
      "Brand :  33 labels\n",
      "Model :  2671 labels\n"
     ]
    }
   ],
   "source": [
    "# let's have a look at how many labels in every columns\n",
    "columns = ['Owner','Fuel_Type','Transmission','RTO','Insurance_Type','Brand','Model']\n",
    "\n",
    "for col in columns:\n",
    "    print(col, ': ', len(Carfinal[col].unique()), 'labels')"
   ]
  },
  {
   "cell_type": "code",
   "execution_count": 69,
   "metadata": {},
   "outputs": [
    {
     "data": {
      "text/html": [
       "<div>\n",
       "<style scoped>\n",
       "    .dataframe tbody tr th:only-of-type {\n",
       "        vertical-align: middle;\n",
       "    }\n",
       "\n",
       "    .dataframe tbody tr th {\n",
       "        vertical-align: top;\n",
       "    }\n",
       "\n",
       "    .dataframe thead th {\n",
       "        text-align: right;\n",
       "    }\n",
       "</style>\n",
       "<table border=\"1\" class=\"dataframe\">\n",
       "  <thead>\n",
       "    <tr style=\"text-align: right;\">\n",
       "      <th></th>\n",
       "      <th>Rating</th>\n",
       "      <th>city</th>\n",
       "      <th>Kilometers</th>\n",
       "      <th>Owner</th>\n",
       "      <th>Fuel_Type</th>\n",
       "      <th>Transmission</th>\n",
       "      <th>Insurance_Type</th>\n",
       "      <th>price</th>\n",
       "      <th>year</th>\n",
       "      <th>month</th>\n",
       "      <th>no_of_yr</th>\n",
       "      <th>Brand</th>\n",
       "      <th>Model</th>\n",
       "    </tr>\n",
       "  </thead>\n",
       "  <tbody>\n",
       "    <tr>\n",
       "      <th>0</th>\n",
       "      <td>4.0</td>\n",
       "      <td>3686</td>\n",
       "      <td>34854</td>\n",
       "      <td>First</td>\n",
       "      <td>Petrol</td>\n",
       "      <td>MANUAL</td>\n",
       "      <td>Expired</td>\n",
       "      <td>174699</td>\n",
       "      <td>2010</td>\n",
       "      <td>5</td>\n",
       "      <td>11</td>\n",
       "      <td>maruti</td>\n",
       "      <td>alto lxi</td>\n",
       "    </tr>\n",
       "    <tr>\n",
       "      <th>1</th>\n",
       "      <td>4.2</td>\n",
       "      <td>3686</td>\n",
       "      <td>39541</td>\n",
       "      <td>Second</td>\n",
       "      <td>Petrol</td>\n",
       "      <td>MANUAL</td>\n",
       "      <td>Comprehensive</td>\n",
       "      <td>333999</td>\n",
       "      <td>2013</td>\n",
       "      <td>7</td>\n",
       "      <td>8</td>\n",
       "      <td>maruti</td>\n",
       "      <td>wagon r 1.0 vxi</td>\n",
       "    </tr>\n",
       "    <tr>\n",
       "      <th>2</th>\n",
       "      <td>4.3</td>\n",
       "      <td>3686</td>\n",
       "      <td>23233</td>\n",
       "      <td>Second</td>\n",
       "      <td>Petrol</td>\n",
       "      <td>MANUAL</td>\n",
       "      <td>Comprehensive</td>\n",
       "      <td>353199</td>\n",
       "      <td>2014</td>\n",
       "      <td>3</td>\n",
       "      <td>7</td>\n",
       "      <td>maruti</td>\n",
       "      <td>wagon r 1.0 vxi</td>\n",
       "    </tr>\n",
       "    <tr>\n",
       "      <th>3</th>\n",
       "      <td>4.4</td>\n",
       "      <td>3686</td>\n",
       "      <td>27748</td>\n",
       "      <td>First</td>\n",
       "      <td>Petrol</td>\n",
       "      <td>MANUAL</td>\n",
       "      <td>Comprehensive</td>\n",
       "      <td>237899</td>\n",
       "      <td>2013</td>\n",
       "      <td>11</td>\n",
       "      <td>8</td>\n",
       "      <td>hyundai</td>\n",
       "      <td>eon d lite plus</td>\n",
       "    </tr>\n",
       "    <tr>\n",
       "      <th>4</th>\n",
       "      <td>4.4</td>\n",
       "      <td>3686</td>\n",
       "      <td>12238</td>\n",
       "      <td>Second</td>\n",
       "      <td>Petrol</td>\n",
       "      <td>MANUAL</td>\n",
       "      <td>Expired</td>\n",
       "      <td>300699</td>\n",
       "      <td>2017</td>\n",
       "      <td>8</td>\n",
       "      <td>4</td>\n",
       "      <td>hyundai</td>\n",
       "      <td>eon era plus</td>\n",
       "    </tr>\n",
       "  </tbody>\n",
       "</table>\n",
       "</div>"
      ],
      "text/plain": [
       "   Rating  city  Kilometers    Owner Fuel_Type Transmission Insurance_Type  \\\n",
       "0     4.0  3686       34854   First     Petrol       MANUAL        Expired   \n",
       "1     4.2  3686       39541  Second     Petrol       MANUAL  Comprehensive   \n",
       "2     4.3  3686       23233  Second     Petrol       MANUAL  Comprehensive   \n",
       "3     4.4  3686       27748   First     Petrol       MANUAL  Comprehensive   \n",
       "4     4.4  3686       12238  Second     Petrol       MANUAL        Expired   \n",
       "\n",
       "    price  year  month  no_of_yr    Brand            Model  \n",
       "0  174699  2010      5        11   maruti         alto lxi  \n",
       "1  333999  2013      7         8   maruti  wagon r 1.0 vxi  \n",
       "2  353199  2014      3         7   maruti  wagon r 1.0 vxi  \n",
       "3  237899  2013     11         8  hyundai  eon d lite plus  \n",
       "4  300699  2017      8         4  hyundai     eon era plus  "
      ]
     },
     "execution_count": 69,
     "metadata": {},
     "output_type": "execute_result"
    }
   ],
   "source": [
    "## Droping RTO column\n",
    "car=Carfinal.drop(['RTO'],axis=1)\n",
    "car.head(5)"
   ]
  },
  {
   "cell_type": "code",
   "execution_count": 70,
   "metadata": {},
   "outputs": [],
   "source": [
    "from sklearn.preprocessing import LabelEncoder\n",
    "\n",
    "Owner_le = LabelEncoder()\n",
    "Fuel_Type_le = LabelEncoder()\n",
    "Transmission_le = LabelEncoder()\n",
    "Insurance_Type_le = LabelEncoder()\n",
    "Brand_le = LabelEncoder()\n",
    "Model_le = LabelEncoder()\n",
    "\n",
    "\n",
    "car['Owner'] = Owner_le.fit_transform(car['Owner'])\n",
    "car['Fuel_Type'] = Fuel_Type_le.fit_transform(car['Fuel_Type'])\n",
    "car['Transmission'] = Transmission_le.fit_transform(car['Transmission'])\n",
    "car['Insurance_Type'] = Insurance_Type_le.fit_transform(car['Insurance_Type'])\n",
    "car['Brand'] = Brand_le.fit_transform(car['Brand'])\n",
    "car['Model'] = Model_le.fit_transform(car['Model'])\n"
   ]
  },
  {
   "cell_type": "code",
   "execution_count": 71,
   "metadata": {},
   "outputs": [
    {
     "data": {
      "text/html": [
       "<div>\n",
       "<style scoped>\n",
       "    .dataframe tbody tr th:only-of-type {\n",
       "        vertical-align: middle;\n",
       "    }\n",
       "\n",
       "    .dataframe tbody tr th {\n",
       "        vertical-align: top;\n",
       "    }\n",
       "\n",
       "    .dataframe thead th {\n",
       "        text-align: right;\n",
       "    }\n",
       "</style>\n",
       "<table border=\"1\" class=\"dataframe\">\n",
       "  <thead>\n",
       "    <tr style=\"text-align: right;\">\n",
       "      <th></th>\n",
       "      <th>Rating</th>\n",
       "      <th>city</th>\n",
       "      <th>Kilometers</th>\n",
       "      <th>Owner</th>\n",
       "      <th>Fuel_Type</th>\n",
       "      <th>Transmission</th>\n",
       "      <th>Insurance_Type</th>\n",
       "      <th>price</th>\n",
       "      <th>year</th>\n",
       "      <th>month</th>\n",
       "      <th>no_of_yr</th>\n",
       "      <th>Brand</th>\n",
       "      <th>Model</th>\n",
       "    </tr>\n",
       "  </thead>\n",
       "  <tbody>\n",
       "    <tr>\n",
       "      <th>0</th>\n",
       "      <td>4.0</td>\n",
       "      <td>3686</td>\n",
       "      <td>34854</td>\n",
       "      <td>2</td>\n",
       "      <td>3</td>\n",
       "      <td>1</td>\n",
       "      <td>1</td>\n",
       "      <td>174699</td>\n",
       "      <td>2010</td>\n",
       "      <td>5</td>\n",
       "      <td>11</td>\n",
       "      <td>18</td>\n",
       "      <td>142</td>\n",
       "    </tr>\n",
       "    <tr>\n",
       "      <th>1</th>\n",
       "      <td>4.2</td>\n",
       "      <td>3686</td>\n",
       "      <td>39541</td>\n",
       "      <td>5</td>\n",
       "      <td>3</td>\n",
       "      <td>1</td>\n",
       "      <td>0</td>\n",
       "      <td>333999</td>\n",
       "      <td>2013</td>\n",
       "      <td>7</td>\n",
       "      <td>8</td>\n",
       "      <td>18</td>\n",
       "      <td>2470</td>\n",
       "    </tr>\n",
       "    <tr>\n",
       "      <th>2</th>\n",
       "      <td>4.3</td>\n",
       "      <td>3686</td>\n",
       "      <td>23233</td>\n",
       "      <td>5</td>\n",
       "      <td>3</td>\n",
       "      <td>1</td>\n",
       "      <td>0</td>\n",
       "      <td>353199</td>\n",
       "      <td>2014</td>\n",
       "      <td>3</td>\n",
       "      <td>7</td>\n",
       "      <td>18</td>\n",
       "      <td>2470</td>\n",
       "    </tr>\n",
       "    <tr>\n",
       "      <th>3</th>\n",
       "      <td>4.4</td>\n",
       "      <td>3686</td>\n",
       "      <td>27748</td>\n",
       "      <td>2</td>\n",
       "      <td>3</td>\n",
       "      <td>1</td>\n",
       "      <td>0</td>\n",
       "      <td>237899</td>\n",
       "      <td>2013</td>\n",
       "      <td>11</td>\n",
       "      <td>8</td>\n",
       "      <td>10</td>\n",
       "      <td>776</td>\n",
       "    </tr>\n",
       "    <tr>\n",
       "      <th>4</th>\n",
       "      <td>4.4</td>\n",
       "      <td>3686</td>\n",
       "      <td>12238</td>\n",
       "      <td>5</td>\n",
       "      <td>3</td>\n",
       "      <td>1</td>\n",
       "      <td>1</td>\n",
       "      <td>300699</td>\n",
       "      <td>2017</td>\n",
       "      <td>8</td>\n",
       "      <td>4</td>\n",
       "      <td>10</td>\n",
       "      <td>780</td>\n",
       "    </tr>\n",
       "  </tbody>\n",
       "</table>\n",
       "</div>"
      ],
      "text/plain": [
       "   Rating  city  Kilometers  Owner  Fuel_Type  Transmission  Insurance_Type  \\\n",
       "0     4.0  3686       34854      2          3             1               1   \n",
       "1     4.2  3686       39541      5          3             1               0   \n",
       "2     4.3  3686       23233      5          3             1               0   \n",
       "3     4.4  3686       27748      2          3             1               0   \n",
       "4     4.4  3686       12238      5          3             1               1   \n",
       "\n",
       "    price  year  month  no_of_yr  Brand  Model  \n",
       "0  174699  2010      5        11     18    142  \n",
       "1  333999  2013      7         8     18   2470  \n",
       "2  353199  2014      3         7     18   2470  \n",
       "3  237899  2013     11         8     10    776  \n",
       "4  300699  2017      8         4     10    780  "
      ]
     },
     "execution_count": 71,
     "metadata": {},
     "output_type": "execute_result"
    }
   ],
   "source": [
    "car.head()"
   ]
  },
  {
   "cell_type": "code",
   "execution_count": 72,
   "metadata": {},
   "outputs": [
    {
     "name": "stderr",
     "output_type": "stream",
     "text": [
      "C:\\Users\\SAMSUNG\\Anaconda3\\lib\\site-packages\\seaborn\\_decorators.py:36: FutureWarning: Pass the following variable as a keyword arg: x. From version 0.12, the only valid positional argument will be `data`, and passing other arguments without an explicit keyword will result in an error or misinterpretation.\n",
      "  warnings.warn(\n"
     ]
    },
    {
     "data": {
      "text/plain": [
       "<AxesSubplot:xlabel='Kilometers'>"
      ]
     },
     "execution_count": 72,
     "metadata": {},
     "output_type": "execute_result"
    },
    {
     "data": {
      "image/png": "[encoded data removed]",
      "text/plain": [
       "<Figure size 432x288 with 1 Axes>"
      ]
     },
     "metadata": {
      "needs_background": "light"
     },
     "output_type": "display_data"
    }
   ],
   "source": [
    "#car['Kilometers'] = pd.to_numeric(car.Kilometers)\n",
    "sns.boxplot(car.Kilometers)"
   ]
  },
  {
   "cell_type": "code",
   "execution_count": 73,
   "metadata": {},
   "outputs": [
    {
     "name": "stderr",
     "output_type": "stream",
     "text": [
      "C:\\Users\\SAMSUNG\\Anaconda3\\lib\\site-packages\\seaborn\\_decorators.py:36: FutureWarning: Pass the following variable as a keyword arg: x. From version 0.12, the only valid positional argument will be `data`, and passing other arguments without an explicit keyword will result in an error or misinterpretation.\n",
      "  warnings.warn(\n"
     ]
    },
    {
     "data": {
      "image/png": "[encoded data removed]",
      "text/plain": [
       "<Figure size 432x288 with 1 Axes>"
      ]
     },
     "metadata": {
      "needs_background": "light"
     },
     "output_type": "display_data"
    }
   ],
   "source": [
    "###Q3 = data['Kilometers'].quantile(0.75)\n",
    "##IQR = Q3 - Q1\n",
    "###((data['Kilometers'] < (Q1 - 1.5 * IQR)) | (data['Kilometers'] > (Q3 + 1.5 * IQR))).mean()\n",
    "\n",
    "######mask = (data['Kilometers'] < (Q1 - 1.5 * IQR)) | (data['Kilometers'] > (Q3 + 1.5 * IQR))data  [mask] = np.nan\n",
    "IQR = car['Kilometers'].quantile(0.75) - car['Kilometers'].quantile(0.25)\n",
    "lower_limit = car['Kilometers'].quantile(0.25) - (IQR * 1.5)\n",
    "upper_limit = car['Kilometers'].quantile(0.75) + (IQR * 1.5)\n",
    "#lower_limit,upper_limit\n",
    "((car['Kilometers'] < lower_limit )| (car['Kilometers'] > upper_limit)).mean()\n",
    "mask = (car['Kilometers'] < lower_limit )| (car['Kilometers'] > upper_limit)\n",
    "car[mask] = np.nan\n",
    "sns.boxplot(car.Kilometers)\n",
    "plt.title('Boxplot')\n",
    "plt.show()\n"
   ]
  },
  {
   "cell_type": "code",
   "execution_count": 74,
   "metadata": {},
   "outputs": [],
   "source": [
    "car['Kilometers']= pd.DataFrame(np.where(car['Kilometers'] > upper_limit, upper_limit,np.where(car['Kilometers'] < lower_limit, lower_limit, car['Kilometers'])))\n"
   ]
  },
  {
   "cell_type": "code",
   "execution_count": 75,
   "metadata": {},
   "outputs": [
    {
     "data": {
      "text/plain": [
       "1.0"
      ]
     },
     "execution_count": 75,
     "metadata": {},
     "output_type": "execute_result"
    }
   ],
   "source": [
    "car.Kilometers.min()"
   ]
  },
  {
   "cell_type": "code",
   "execution_count": 76,
   "metadata": {},
   "outputs": [
    {
     "data": {
      "text/plain": [
       "196318.0"
      ]
     },
     "execution_count": 76,
     "metadata": {},
     "output_type": "execute_result"
    }
   ],
   "source": [
    "car.Kilometers.max()"
   ]
  },
  {
   "cell_type": "code",
   "execution_count": 77,
   "metadata": {},
   "outputs": [
    {
     "data": {
      "text/plain": [
       "Rating            0.026028\n",
       "city              0.026028\n",
       "Kilometers        0.026028\n",
       "Owner             0.026028\n",
       "Fuel_Type         0.026028\n",
       "Transmission      0.026028\n",
       "Insurance_Type    0.026028\n",
       "price             0.026028\n",
       "year              0.026028\n",
       "month             0.026028\n",
       "no_of_yr          0.026028\n",
       "Brand             0.026028\n",
       "Model             0.026028\n",
       "dtype: float64"
      ]
     },
     "execution_count": 77,
     "metadata": {},
     "output_type": "execute_result"
    }
   ],
   "source": [
    "car.isnull().mean()"
   ]
  },
  {
   "cell_type": "code",
   "execution_count": 78,
   "metadata": {},
   "outputs": [],
   "source": [
    "car.dropna(axis=0,inplace=True)"
   ]
  },
  {
   "cell_type": "code",
   "execution_count": 79,
   "metadata": {},
   "outputs": [
    {
     "data": {
      "text/plain": [
       "Rating            0.0\n",
       "city              0.0\n",
       "Kilometers        0.0\n",
       "Owner             0.0\n",
       "Fuel_Type         0.0\n",
       "Transmission      0.0\n",
       "Insurance_Type    0.0\n",
       "price             0.0\n",
       "year              0.0\n",
       "month             0.0\n",
       "no_of_yr          0.0\n",
       "Brand             0.0\n",
       "Model             0.0\n",
       "dtype: float64"
      ]
     },
     "execution_count": 79,
     "metadata": {},
     "output_type": "execute_result"
    }
   ],
   "source": [
    "car.isnull().mean()"
   ]
  },
  {
   "cell_type": "code",
   "execution_count": 80,
   "metadata": {},
   "outputs": [
    {
     "data": {
      "text/plain": [
       "Rating           -2.399242\n",
       "city              0.218477\n",
       "Kilometers        0.533475\n",
       "Owner             1.364083\n",
       "Fuel_Type        -0.016106\n",
       "Transmission     -2.949542\n",
       "Insurance_Type    0.567147\n",
       "price             4.497165\n",
       "year             -0.912811\n",
       "month             0.205311\n",
       "no_of_yr          0.912811\n",
       "Brand             0.259559\n",
       "Model             0.063105\n",
       "dtype: float64"
      ]
     },
     "execution_count": 80,
     "metadata": {},
     "output_type": "execute_result"
    }
   ],
   "source": [
    "###Let's see the Skewness\n",
    "car.skew()"
   ]
  },
  {
   "cell_type": "code",
   "execution_count": 81,
   "metadata": {},
   "outputs": [],
   "source": [
    "car['price'] = np.log(car['price']+1)"
   ]
  },
  {
   "cell_type": "code",
   "execution_count": 82,
   "metadata": {},
   "outputs": [],
   "source": [
    "from scipy import stats\n",
    "car['Rating'],param = stats.boxcox(car['Rating']+1)"
   ]
  },
  {
   "cell_type": "code",
   "execution_count": 83,
   "metadata": {},
   "outputs": [
    {
     "data": {
      "text/plain": [
       "Rating           -0.018623\n",
       "city              0.218477\n",
       "Kilometers        0.533475\n",
       "Owner             1.364083\n",
       "Fuel_Type        -0.016106\n",
       "Transmission     -2.949542\n",
       "Insurance_Type    0.567147\n",
       "price            -0.494860\n",
       "year             -0.912811\n",
       "month             0.205311\n",
       "no_of_yr          0.912811\n",
       "Brand             0.259559\n",
       "Model             0.063105\n",
       "dtype: float64"
      ]
     },
     "execution_count": 83,
     "metadata": {},
     "output_type": "execute_result"
    }
   ],
   "source": [
    "car.skew()"
   ]
  },
  {
   "cell_type": "code",
   "execution_count": 84,
   "metadata": {},
   "outputs": [],
   "source": [
    "## Assigning the Dependent or Independent Features\n",
    "X = car.drop('price',axis=1)\n",
    "y = car.price\n"
   ]
  },
  {
   "cell_type": "code",
   "execution_count": 85,
   "metadata": {},
   "outputs": [],
   "source": [
    "#Train | Test split\n",
    "from sklearn.model_selection import train_test_split\n",
    "X_train, X_test, y_train, y_test = train_test_split(X,y, test_size=0.2, random_state=0)\n"
   ]
  },
  {
   "cell_type": "markdown",
   "metadata": {},
   "source": [
    "# @@@@@@@@@@@@@@@@@@@@@@@@@@@@@@@@@@@@@@@@@@@@@@Modeling@@@@@@@@@@@@@@@@@@@@@@@@@@@@@@@@@@@@@@@@@@@@"
   ]
  },
  {
   "cell_type": "code",
   "execution_count": 89,
   "metadata": {},
   "outputs": [
    {
     "data": {
      "text/plain": [
       "LinearRegression()"
      ]
     },
     "execution_count": 89,
     "metadata": {},
     "output_type": "execute_result"
    }
   ],
   "source": [
    " #  Linear Regression\n",
    "from sklearn.linear_model import LinearRegression\n",
    "linear_reg = LinearRegression()\n",
    "linear_reg.fit(X_train, y_train)"
   ]
  },
  {
   "cell_type": "code",
   "execution_count": 90,
   "metadata": {},
   "outputs": [
    {
     "data": {
      "text/plain": [
       "0.7243058261829014"
      ]
     },
     "execution_count": 90,
     "metadata": {},
     "output_type": "execute_result"
    }
   ],
   "source": [
    "y_pred_train = linear_reg.predict(X_train)\n",
    "from sklearn.metrics import r2_score\n",
    "r2_score(y_train, y_pred_train)"
   ]
  },
  {
   "cell_type": "code",
   "execution_count": 94,
   "metadata": {},
   "outputs": [
    {
     "data": {
      "text/plain": [
       "0.7022872601626808"
      ]
     },
     "execution_count": 94,
     "metadata": {},
     "output_type": "execute_result"
    }
   ],
   "source": [
    "y_pred_linear_reg = linear_reg.predict(X_test)\n",
    "from sklearn.metrics import r2_score\n",
    "r2_score(y_test, y_pred_linear_reg)"
   ]
  },
  {
   "cell_type": "code",
   "execution_count": 91,
   "metadata": {},
   "outputs": [
    {
     "data": {
      "text/plain": [
       "array([0.70228726, 0.72570391, 0.71913671, 0.72828251, 0.73025932])"
      ]
     },
     "execution_count": 91,
     "metadata": {},
     "output_type": "execute_result"
    }
   ],
   "source": [
    "from sklearn.model_selection import ShuffleSplit\n",
    "from sklearn.model_selection import cross_val_score\n",
    "\n",
    "cv = ShuffleSplit(n_splits=5, test_size=0.2, random_state=0)\n",
    "\n",
    "cross_val_score(LinearRegression(), X, y, cv=cv)"
   ]
  },
  {
   "cell_type": "markdown",
   "metadata": {},
   "source": [
    "# Find best model using GridSearchCV\n"
   ]
  },
  {
   "cell_type": "code",
   "execution_count": 92,
   "metadata": {},
   "outputs": [
    {
     "data": {
      "text/html": [
       "<div>\n",
       "<style scoped>\n",
       "    .dataframe tbody tr th:only-of-type {\n",
       "        vertical-align: middle;\n",
       "    }\n",
       "\n",
       "    .dataframe tbody tr th {\n",
       "        vertical-align: top;\n",
       "    }\n",
       "\n",
       "    .dataframe thead th {\n",
       "        text-align: right;\n",
       "    }\n",
       "</style>\n",
       "<table border=\"1\" class=\"dataframe\">\n",
       "  <thead>\n",
       "    <tr style=\"text-align: right;\">\n",
       "      <th></th>\n",
       "      <th>model</th>\n",
       "      <th>best_score</th>\n",
       "      <th>best_params</th>\n",
       "    </tr>\n",
       "  </thead>\n",
       "  <tbody>\n",
       "    <tr>\n",
       "      <th>0</th>\n",
       "      <td>linear_regression</td>\n",
       "      <td>0.721134</td>\n",
       "      <td>{'normalize': False}</td>\n",
       "    </tr>\n",
       "    <tr>\n",
       "      <th>1</th>\n",
       "      <td>lasso</td>\n",
       "      <td>0.496292</td>\n",
       "      <td>{'alpha': 1, 'selection': 'random'}</td>\n",
       "    </tr>\n",
       "    <tr>\n",
       "      <th>2</th>\n",
       "      <td>decision_tree</td>\n",
       "      <td>0.823456</td>\n",
       "      <td>{'criterion': 'friedman_mse', 'splitter': 'best'}</td>\n",
       "    </tr>\n",
       "  </tbody>\n",
       "</table>\n",
       "</div>"
      ],
      "text/plain": [
       "               model  best_score  \\\n",
       "0  linear_regression    0.721134   \n",
       "1              lasso    0.496292   \n",
       "2      decision_tree    0.823456   \n",
       "\n",
       "                                         best_params  \n",
       "0                               {'normalize': False}  \n",
       "1                {'alpha': 1, 'selection': 'random'}  \n",
       "2  {'criterion': 'friedman_mse', 'splitter': 'best'}  "
      ]
     },
     "execution_count": 92,
     "metadata": {},
     "output_type": "execute_result"
    }
   ],
   "source": [
    "from sklearn.model_selection import GridSearchCV\n",
    "\n",
    "from sklearn.linear_model import Lasso\n",
    "from sklearn.tree import DecisionTreeRegressor\n",
    "\n",
    "def find_best_model_using_gridsearchcv(X,y):\n",
    "    algos = {\n",
    "        'linear_regression' : {\n",
    "            'model': LinearRegression(),\n",
    "            'params': {\n",
    "                'normalize': [True, False]\n",
    "            }\n",
    "        },\n",
    "        'lasso': {\n",
    "            'model': Lasso(),\n",
    "            'params': {\n",
    "                'alpha': [1,2],\n",
    "                'selection': ['random', 'cyclic']\n",
    "            }\n",
    "        },\n",
    "        'decision_tree': {\n",
    "            'model': DecisionTreeRegressor(),\n",
    "            'params': {\n",
    "                'criterion' : ['mse','friedman_mse'],\n",
    "                'splitter': ['best','random']\n",
    "            }\n",
    "        }\n",
    "    }\n",
    "    scores = []\n",
    "    cv = ShuffleSplit(n_splits=5, test_size=0.2, random_state=0)\n",
    "    for algo_name, config in algos.items():\n",
    "        gs =  GridSearchCV(config['model'], config['params'], cv=cv, return_train_score=False)\n",
    "        gs.fit(X,y)\n",
    "        scores.append({\n",
    "            'model': algo_name,\n",
    "            'best_score': gs.best_score_,\n",
    "            'best_params': gs.best_params_\n",
    "        })\n",
    "\n",
    "    return pd.DataFrame(scores,columns=['model','best_score','best_params'])\n",
    "\n",
    "find_best_model_using_gridsearchcv(X,y)"
   ]
  },
  {
   "cell_type": "code",
   "execution_count": 98,
   "metadata": {},
   "outputs": [
    {
     "data": {
      "text/plain": [
       "LinearRegression()"
      ]
     },
     "execution_count": 98,
     "metadata": {},
     "output_type": "execute_result"
    }
   ],
   "source": [
    " #  Polynomial Regression\n",
    "from sklearn.preprocessing import PolynomialFeatures\n",
    "from sklearn.linear_model import LinearRegression\n",
    "poly_reg = PolynomialFeatures(degree = 2)\n",
    "X_poly = poly_reg.fit_transform(X_train)\n",
    "regressor = LinearRegression()\n",
    "regressor.fit(X_poly, y_train)\n"
   ]
  },
  {
   "cell_type": "code",
   "execution_count": 99,
   "metadata": {},
   "outputs": [
    {
     "data": {
      "text/plain": [
       "0.7298293423148019"
      ]
     },
     "execution_count": 99,
     "metadata": {},
     "output_type": "execute_result"
    }
   ],
   "source": [
    "y_pred_poly = regressor.predict(poly_reg.transform(X_test))\n",
    "from sklearn.metrics import r2_score\n",
    "r2_score(y_test, y_pred_poly)"
   ]
  },
  {
   "cell_type": "code",
   "execution_count": 100,
   "metadata": {},
   "outputs": [
    {
     "name": "stdout",
     "output_type": "stream",
     "text": [
      "R2 score : 0.70\n",
      "R2 score : 0.72\n"
     ]
    }
   ],
   "source": [
    "from sklearn.linear_model import Ridge\n",
    "lr_rid = Ridge()\n",
    "lr_rid.fit(X_train,y_train)\n",
    "lr_rid.score(X_test,y_test)\n",
    "y_pre = lr_rid.predict(X_train)\n",
    "y_pred = lr_rid.predict(X_test)\n",
    "y_train_pred=lr_rid.predict(X_train)\n",
    "y_test_pred=lr_rid.predict(X_test)\n",
    "print(\"R2 score : %.2f\" % r2_score(y_test,y_test_pred))\n",
    "print(\"R2 score : %.2f\" % r2_score(y_train,y_train_pred))"
   ]
  },
  {
   "cell_type": "code",
   "execution_count": 108,
   "metadata": {},
   "outputs": [
    {
     "name": "stdout",
     "output_type": "stream",
     "text": [
      "R2 score : 0.89\n",
      "R2 score : 0.99\n"
     ]
    }
   ],
   "source": [
    "from sklearn.ensemble import RandomForestRegressor\n",
    "regr = RandomForestRegressor(n_estimators=110,random_state=1)\n",
    "regr.fit(X_train,y_train)\n",
    "y_train_pred=regr.predict(X_train)\n",
    "y_test_pred=regr.predict(X_test)\n",
    "print(\"R2 score : %.2f\" % r2_score(y_test,y_test_pred))\n",
    "print(\"R2 score : %.2f\" % r2_score(y_train,y_train_pred))"
   ]
  },
  {
   "cell_type": "markdown",
   "metadata": {},
   "source": [
    "# Wrong model"
   ]
  },
  {
   "cell_type": "code",
   "execution_count": 117,
   "metadata": {},
   "outputs": [
    {
     "data": {
      "text/plain": [
       "GradientBoostingRegressor(learning_rate=0.3, max_depth=6, n_estimators=247)"
      ]
     },
     "execution_count": 117,
     "metadata": {},
     "output_type": "execute_result"
    }
   ],
   "source": [
    "#Gradient Boosting\n",
    "from sklearn.ensemble import GradientBoostingRegressor\n",
    "gr_m = GradientBoostingRegressor(n_estimators=247, max_depth=6, learning_rate=0.3)\n",
    "gr_m.fit(X_train, y_train)"
   ]
  },
  {
   "cell_type": "code",
   "execution_count": 118,
   "metadata": {},
   "outputs": [
    {
     "name": "stdout",
     "output_type": "stream",
     "text": [
      "R2 score : 1.00\n"
     ]
    }
   ],
   "source": [
    "y_pred_g_train = gr_m.predict(X_train)\n",
    "from sklearn.metrics import r2_score\n",
    "print(\"R2 score : %.2f\" % r2_score(y_train,y_pred_g_train))\n"
   ]
  },
  {
   "cell_type": "code",
   "execution_count": 119,
   "metadata": {},
   "outputs": [
    {
     "name": "stdout",
     "output_type": "stream",
     "text": [
      "R2 score : 0.23\n"
     ]
    }
   ],
   "source": [
    "y_pred_gb = gr_m.predict(X_test)\n",
    "from sklearn.metrics import r2_score\n",
    "print(\"R2 score : %.2f\" % r2_score(y_test,y_pred_gb))"
   ]
  },
  {
   "cell_type": "markdown",
   "metadata": {},
   "source": [
    "# XGBOOST REGRESSOR"
   ]
  },
  {
   "cell_type": "code",
   "execution_count": 120,
   "metadata": {},
   "outputs": [],
   "source": [
    "import xgboost"
   ]
  },
  {
   "cell_type": "code",
   "execution_count": 121,
   "metadata": {},
   "outputs": [],
   "source": [
    "## Assigning the Dependent or Independent Features\n",
    "X = car.drop('price',axis=1)\n",
    "y = car.price\n"
   ]
  },
  {
   "cell_type": "code",
   "execution_count": 122,
   "metadata": {},
   "outputs": [],
   "source": [
    "#Train | Test split\n",
    "from sklearn.model_selection import train_test_split\n",
    "X_train, X_test, y_train, y_test = train_test_split(X,y, test_size=0.2, random_state=0)"
   ]
  },
  {
   "cell_type": "code",
   "execution_count": 123,
   "metadata": {},
   "outputs": [
    {
     "name": "stdout",
     "output_type": "stream",
     "text": [
      "Mean MAE: 0.154 (0.003)\n",
      "R2 score : 0.95\n",
      "R2 score : 0.96\n"
     ]
    }
   ],
   "source": [
    "from numpy import absolute\n",
    "from sklearn.model_selection import cross_val_score\n",
    "from sklearn.model_selection import RepeatedKFold\n",
    "from xgboost import XGBRegressor\n",
    "model = XGBRegressor(n_estimators=1000, max_depth=7, eta=0.1, subsample=0.7, colsample_bytree=0.8)\n",
    "# define model\n",
    "model = XGBRegressor()\n",
    "# define model evaluation method\n",
    "cv = RepeatedKFold(n_splits=10, n_repeats=3, random_state=1)\n",
    "# evaluate model\n",
    "scores = cross_val_score(model, X, y, scoring='neg_mean_absolute_error', cv=cv, n_jobs=-1)\n",
    "# force scores to be positive\n",
    "scores = absolute(scores)\n",
    "print('Mean MAE: %.3f (%.3f)' % (scores.mean(), scores.std()) )\n",
    "model.fit(X, y)\n",
    "y_train_pred=model.predict(X_train)\n",
    "y_test_pred=model.predict(X_test)\n",
    "print(\"R2 score : %.2f\" % r2_score(y_test,y_test_pred))\n",
    "print(\"R2 score : %.2f\" % r2_score(y_train,y_train_pred))"
   ]
  },
  {
   "cell_type": "code",
   "execution_count": null,
   "metadata": {},
   "outputs": [],
   "source": [
    "## XGB Regressor Hyper-Parameter tunning"
   ]
  },
  {
   "cell_type": "code",
   "execution_count": null,
   "metadata": {},
   "outputs": [],
   "source": [
    "#param_grid = {\n",
    " #       'learning_rate': [0.01, 0.1],\n",
    "  #      'max_depth': [3, 5, 7, 10],\n",
    "   #     'min_child_weight': [1, 3, 5],\n",
    "    #    'subsample': [0.5, 0.7],\n",
    " #       'colsample_bytree': [0.5, 0.7],\n",
    "  #      'n_estimators' : [100, 200, 500],\n",
    "   #     'objective': ['reg:squarederror']\n",
    " #}"
   ]
  },
  {
   "cell_type": "code",
   "execution_count": null,
   "metadata": {},
   "outputs": [],
   "source": [
    "#xgbr = XGBRegressor()"
   ]
  },
  {
   "cell_type": "code",
   "execution_count": null,
   "metadata": {},
   "outputs": [],
   "source": [
    "#xgbr_g_search = GridSearchCV(estimator = xgbr,\n",
    " #                          param_grid = param_grid,                        \n",
    "  #                         scoring = 'neg_mean_squared_error',\n",
    "   #                        cv = 5,\n",
    "    #                       n_jobs = -1,\n",
    "     #                      verbose = 1)\n",
    "#xgbr_g_search.fit(X_train, y_train)"
   ]
  },
  {
   "cell_type": "code",
   "execution_count": null,
   "metadata": {},
   "outputs": [],
   "source": [
    "#xgbr_g_search.best_params_"
   ]
  }
 ],
 "metadata": {
  "kernelspec": {
   "display_name": "Python 3",
   "language": "python",
   "name": "python3"
  },
  "language_info": {
   "codemirror_mode": {
    "name": "ipython",
    "version": 3
   },
   "file_extension": ".py",
   "mimetype": "text/x-python",
   "name": "python",
   "nbconvert_exporter": "python",
   "pygments_lexer": "ipython3",
   "version": "3.8.5"
  }
 },
 "nbformat": 4,
 "nbformat_minor": 4
}
